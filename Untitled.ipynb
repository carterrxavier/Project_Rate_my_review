{
 "cells": [
  {
   "cell_type": "code",
   "execution_count": 1,
   "id": "3606c11a-78ce-4834-abc8-e86ded29b935",
   "metadata": {},
   "outputs": [],
   "source": [
    "import pandas as pd \n",
    "import numpy as np\n",
    "import prepare\n",
    "#to see the whole review, diaplay max column width\n",
    "pd.set_option('display.max_colwidth', None)"
   ]
  },
  {
   "cell_type": "markdown",
   "id": "91bc892a-628d-4366-ac52-9205a6e39c74",
   "metadata": {},
   "source": [
    "# Texas Hotel Review Analysis\n",
    "### Authors: Xavier Carter, September 2021\n",
    "\n",
    "#### The Dataset\n",
    "- Using Selinium, 13,800 reviews were gathered from various hotels across the 4 major cities in texas (Houston, Austin, Dallas, San Antonio)\n",
    "\n",
    "#### Project Goals\n",
    "- Analyze reviews to understand correlation to the review rating and the review. \n",
    "- Build a machine learning model to predict what rating a review should get.\n",
    "\n",
    "#### Executive Summary\n",
    "- Executive Summary here"
   ]
  },
  {
   "cell_type": "markdown",
   "id": "9771eddd-ad29-4ae6-8b60-373b45e71684",
   "metadata": {},
   "source": [
    "----"
   ]
  },
  {
   "cell_type": "markdown",
   "id": "e561ba33-725c-4bce-a29a-2f22f0198835",
   "metadata": {},
   "source": [
    "## Acquire\n",
    "- Utilizing Selinium (see acquire1.py and acquire2.py) , Gathering reviews from trip advisor as well as the city , there month of stay, the hotel name as their review rating"
   ]
  },
  {
   "cell_type": "code",
   "execution_count": 2,
   "id": "d66e705f-ab11-4ad3-82cc-576318b25e3f",
   "metadata": {},
   "outputs": [],
   "source": [
    "df = pd.read_csv('hotel_data.csv')"
   ]
  },
  {
   "cell_type": "code",
   "execution_count": 3,
   "id": "af57c0d9-3796-4e60-b4a9-3af51c60796a",
   "metadata": {},
   "outputs": [
    {
     "data": {
      "text/html": [
       "<div>\n",
       "<style scoped>\n",
       "    .dataframe tbody tr th:only-of-type {\n",
       "        vertical-align: middle;\n",
       "    }\n",
       "\n",
       "    .dataframe tbody tr th {\n",
       "        vertical-align: top;\n",
       "    }\n",
       "\n",
       "    .dataframe thead th {\n",
       "        text-align: right;\n",
       "    }\n",
       "</style>\n",
       "<table border=\"1\" class=\"dataframe\">\n",
       "  <thead>\n",
       "    <tr style=\"text-align: right;\">\n",
       "      <th></th>\n",
       "      <th>hotel_name</th>\n",
       "      <th>hotel_city</th>\n",
       "      <th>date_of_stay</th>\n",
       "      <th>review_rating</th>\n",
       "      <th>review</th>\n",
       "    </tr>\n",
       "  </thead>\n",
       "  <tbody>\n",
       "    <tr>\n",
       "      <th>0</th>\n",
       "      <td>Drury Plaza Hotel San Antonio Riverwalk</td>\n",
       "      <td>San Antonio</td>\n",
       "      <td>September 2021</td>\n",
       "      <td>5</td>\n",
       "      <td>Joseph was so helpful and attentive! Awesome c...</td>\n",
       "    </tr>\n",
       "    <tr>\n",
       "      <th>1</th>\n",
       "      <td>Drury Plaza Hotel San Antonio Riverwalk</td>\n",
       "      <td>San Antonio</td>\n",
       "      <td>September 2020</td>\n",
       "      <td>5</td>\n",
       "      <td>We stayed one night at the Drury Plaza Riverwa...</td>\n",
       "    </tr>\n",
       "    <tr>\n",
       "      <th>2</th>\n",
       "      <td>Drury Plaza Hotel San Antonio Riverwalk</td>\n",
       "      <td>San Antonio</td>\n",
       "      <td>September 2021</td>\n",
       "      <td>5</td>\n",
       "      <td>On a very busy weekend, I had the pleasure of ...</td>\n",
       "    </tr>\n",
       "    <tr>\n",
       "      <th>3</th>\n",
       "      <td>Drury Plaza Hotel San Antonio Riverwalk</td>\n",
       "      <td>San Antonio</td>\n",
       "      <td>September 2021</td>\n",
       "      <td>5</td>\n",
       "      <td>Elijah has great customer service! He was very...</td>\n",
       "    </tr>\n",
       "    <tr>\n",
       "      <th>4</th>\n",
       "      <td>Drury Plaza Hotel San Antonio Riverwalk</td>\n",
       "      <td>San Antonio</td>\n",
       "      <td>August 2021</td>\n",
       "      <td>5</td>\n",
       "      <td>Excellent place to stay. Everyone was pleasant...</td>\n",
       "    </tr>\n",
       "    <tr>\n",
       "      <th>...</th>\n",
       "      <td>...</td>\n",
       "      <td>...</td>\n",
       "      <td>...</td>\n",
       "      <td>...</td>\n",
       "      <td>...</td>\n",
       "    </tr>\n",
       "    <tr>\n",
       "      <th>13796</th>\n",
       "      <td>Bestway Inn</td>\n",
       "      <td>Dallas</td>\n",
       "      <td>April 2017</td>\n",
       "      <td>1</td>\n",
       "      <td>Where to start? No ice, no vending or coke mac...</td>\n",
       "    </tr>\n",
       "    <tr>\n",
       "      <th>13797</th>\n",
       "      <td>Kasa Dallas West End Apartments</td>\n",
       "      <td>Dallas</td>\n",
       "      <td>February 2021</td>\n",
       "      <td>1</td>\n",
       "      <td>I would not recommend this complex to anyone. ...</td>\n",
       "    </tr>\n",
       "    <tr>\n",
       "      <th>13798</th>\n",
       "      <td>InTown Suites Extended Stay Dallas TX - Forest...</td>\n",
       "      <td>Dallas</td>\n",
       "      <td>July 2017</td>\n",
       "      <td>1</td>\n",
       "      <td>Made a reservation 3 months ago for an extende...</td>\n",
       "    </tr>\n",
       "    <tr>\n",
       "      <th>13799</th>\n",
       "      <td>InTown Suites Extended Stay Dallas TX - Forest...</td>\n",
       "      <td>Dallas</td>\n",
       "      <td>August 2014</td>\n",
       "      <td>1</td>\n",
       "      <td>I checked in here at this place and they gave ...</td>\n",
       "    </tr>\n",
       "    <tr>\n",
       "      <th>13800</th>\n",
       "      <td>Home 2 Suites</td>\n",
       "      <td>Dallas</td>\n",
       "      <td>May 2021</td>\n",
       "      <td>1</td>\n",
       "      <td>Their system was down when we arrived....not a...</td>\n",
       "    </tr>\n",
       "  </tbody>\n",
       "</table>\n",
       "<p>13801 rows × 5 columns</p>\n",
       "</div>"
      ],
      "text/plain": [
       "                                              hotel_name   hotel_city  \\\n",
       "0                Drury Plaza Hotel San Antonio Riverwalk  San Antonio   \n",
       "1                Drury Plaza Hotel San Antonio Riverwalk  San Antonio   \n",
       "2                Drury Plaza Hotel San Antonio Riverwalk  San Antonio   \n",
       "3                Drury Plaza Hotel San Antonio Riverwalk  San Antonio   \n",
       "4                Drury Plaza Hotel San Antonio Riverwalk  San Antonio   \n",
       "...                                                  ...          ...   \n",
       "13796                                        Bestway Inn       Dallas   \n",
       "13797                    Kasa Dallas West End Apartments       Dallas   \n",
       "13798  InTown Suites Extended Stay Dallas TX - Forest...       Dallas   \n",
       "13799  InTown Suites Extended Stay Dallas TX - Forest...       Dallas   \n",
       "13800                                      Home 2 Suites       Dallas   \n",
       "\n",
       "          date_of_stay  review_rating  \\\n",
       "0       September 2021              5   \n",
       "1       September 2020              5   \n",
       "2       September 2021              5   \n",
       "3       September 2021              5   \n",
       "4          August 2021              5   \n",
       "...                ...            ...   \n",
       "13796       April 2017              1   \n",
       "13797    February 2021              1   \n",
       "13798        July 2017              1   \n",
       "13799      August 2014              1   \n",
       "13800         May 2021              1   \n",
       "\n",
       "                                                  review  \n",
       "0      Joseph was so helpful and attentive! Awesome c...  \n",
       "1      We stayed one night at the Drury Plaza Riverwa...  \n",
       "2      On a very busy weekend, I had the pleasure of ...  \n",
       "3      Elijah has great customer service! He was very...  \n",
       "4      Excellent place to stay. Everyone was pleasant...  \n",
       "...                                                  ...  \n",
       "13796  Where to start? No ice, no vending or coke mac...  \n",
       "13797  I would not recommend this complex to anyone. ...  \n",
       "13798  Made a reservation 3 months ago for an extende...  \n",
       "13799  I checked in here at this place and they gave ...  \n",
       "13800  Their system was down when we arrived....not a...  \n",
       "\n",
       "[13801 rows x 5 columns]"
      ]
     },
     "execution_count": 3,
     "metadata": {},
     "output_type": "execute_result"
    }
   ],
   "source": [
    "df"
   ]
  },
  {
   "cell_type": "code",
   "execution_count": 4,
   "id": "d50e0d63-ed8f-42c8-b676-29e1e78d5066",
   "metadata": {},
   "outputs": [
    {
     "name": "stdout",
     "output_type": "stream",
     "text": [
      "<class 'pandas.core.frame.DataFrame'>\n",
      "RangeIndex: 13801 entries, 0 to 13800\n",
      "Data columns (total 5 columns):\n",
      " #   Column         Non-Null Count  Dtype \n",
      "---  ------         --------------  ----- \n",
      " 0   hotel_name     13801 non-null  object\n",
      " 1   hotel_city     13801 non-null  object\n",
      " 2   date_of_stay   13801 non-null  object\n",
      " 3   review_rating  13801 non-null  int64 \n",
      " 4   review         13801 non-null  object\n",
      "dtypes: int64(1), object(4)\n",
      "memory usage: 539.2+ KB\n"
     ]
    }
   ],
   "source": [
    "df.info()"
   ]
  },
  {
   "cell_type": "code",
   "execution_count": 5,
   "id": "817c648a-562b-4580-b52f-b94d631c1942",
   "metadata": {},
   "outputs": [
    {
     "data": {
      "text/plain": [
       "hotel_name       0\n",
       "hotel_city       0\n",
       "date_of_stay     0\n",
       "review_rating    0\n",
       "review           0\n",
       "dtype: int64"
      ]
     },
     "execution_count": 5,
     "metadata": {},
     "output_type": "execute_result"
    }
   ],
   "source": [
    "df.isna().sum()"
   ]
  },
  {
   "cell_type": "code",
   "execution_count": 6,
   "id": "5f1b5ef7-587e-4d4a-8049-ab5696a73b34",
   "metadata": {},
   "outputs": [
    {
     "data": {
      "text/html": [
       "<div>\n",
       "<style scoped>\n",
       "    .dataframe tbody tr th:only-of-type {\n",
       "        vertical-align: middle;\n",
       "    }\n",
       "\n",
       "    .dataframe tbody tr th {\n",
       "        vertical-align: top;\n",
       "    }\n",
       "\n",
       "    .dataframe thead th {\n",
       "        text-align: right;\n",
       "    }\n",
       "</style>\n",
       "<table border=\"1\" class=\"dataframe\">\n",
       "  <thead>\n",
       "    <tr style=\"text-align: right;\">\n",
       "      <th></th>\n",
       "      <th>review_rating</th>\n",
       "    </tr>\n",
       "  </thead>\n",
       "  <tbody>\n",
       "    <tr>\n",
       "      <th>count</th>\n",
       "      <td>13801.000000</td>\n",
       "    </tr>\n",
       "    <tr>\n",
       "      <th>mean</th>\n",
       "      <td>3.622564</td>\n",
       "    </tr>\n",
       "    <tr>\n",
       "      <th>std</th>\n",
       "      <td>1.559053</td>\n",
       "    </tr>\n",
       "    <tr>\n",
       "      <th>min</th>\n",
       "      <td>1.000000</td>\n",
       "    </tr>\n",
       "    <tr>\n",
       "      <th>25%</th>\n",
       "      <td>2.000000</td>\n",
       "    </tr>\n",
       "    <tr>\n",
       "      <th>50%</th>\n",
       "      <td>4.000000</td>\n",
       "    </tr>\n",
       "    <tr>\n",
       "      <th>75%</th>\n",
       "      <td>5.000000</td>\n",
       "    </tr>\n",
       "    <tr>\n",
       "      <th>max</th>\n",
       "      <td>5.000000</td>\n",
       "    </tr>\n",
       "  </tbody>\n",
       "</table>\n",
       "</div>"
      ],
      "text/plain": [
       "       review_rating\n",
       "count   13801.000000\n",
       "mean        3.622564\n",
       "std         1.559053\n",
       "min         1.000000\n",
       "25%         2.000000\n",
       "50%         4.000000\n",
       "75%         5.000000\n",
       "max         5.000000"
      ]
     },
     "execution_count": 6,
     "metadata": {},
     "output_type": "execute_result"
    }
   ],
   "source": [
    "df.describe()"
   ]
  },
  {
   "cell_type": "code",
   "execution_count": 7,
   "id": "05517f01-0f33-4947-9ae2-e0d76a6d010e",
   "metadata": {},
   "outputs": [
    {
     "name": "stdout",
     "output_type": "stream",
     "text": [
      "La Cantera Resort & Spa                                    70\n",
      "Fairmont Austin                                            70\n",
      "La Quinta Inn & Suites by Wyndham Houston Hobby Airport    35\n",
      "Hampton Inn & Suites Dallas Downtown                       35\n",
      "Extended Stay America - Austin - North Central             35\n",
      "                                                           ..\n",
      "Studio 6 Austin, TX-Airport                                 1\n",
      "Terra Cotta Inn                                             1\n",
      "Scottish Inn & Suites                                       1\n",
      "Palace Inn Beltway & Westview                               1\n",
      "Kasa Dallas West End Apartments                             1\n",
      "Name: hotel_name, Length: 548, dtype: int64\n",
      "---------------------------\n",
      "Austin         4033\n",
      "San Antonio    3633\n",
      "Houston        3574\n",
      "Dallas         2561\n",
      "Name: hotel_city, dtype: int64\n",
      "---------------------------\n",
      " August 2021      1356\n",
      " July 2021        1215\n",
      " February 2020     696\n",
      " June 2021         696\n",
      " May 2021          695\n",
      "                  ... \n",
      " February 2010       1\n",
      " January 2015        1\n",
      " August 2012         1\n",
      " April 2013          1\n",
      " February 2015       1\n",
      "Name: date_of_stay, Length: 120, dtype: int64\n",
      "---------------------------\n",
      "5    6344\n",
      "1    2518\n",
      "4    2192\n",
      "3    1495\n",
      "2    1252\n",
      "Name: review_rating, dtype: int64\n",
      "---------------------------\n",
      "I stayed here for work in August, I had a great stay and the staff is lovely and helpful, I just think everyone should be aware of the vibe is here. It is a very young crowd, and very crowded on weekends. On weekends, there is a huge party scene at this hotel - to the point that the pool is essentially inaccessible/unenjoyable if you are not trying to rage. If I was here partying with friends, I would have LOVED it. Unfortunately, I was here solo for work. The pool does calm down during the week. My first room had an adjoining door to the next room and it was awful, there was absolutely 0 soundproofing. I was thankfully moved to a quieter, corner room that was not adjoining. While this was much better for the noise situation, there were still minor things that bothered me -    2\n",
      "My wife and I came here for our anniversary. Ryan checked us in and provided some recommendations while we were in Austin. He was spot on when he mentioned that Austin is known for breakfast tacos. He also sent up a bottle of champagne for our anniversary, which is the nicest thing anyone has ever done for us at a hotel. One thing to keep in mind when you stay here, the staff does provide complimentary water, so before you open that bottle in your room, call the front desk for some. Overall the experience was great, the staff is friendly and goes above and beyond to make your stay wonderful. I would definitely stay here again.                                                                                                                                                          2\n",
      "We had exceptional service from Alif at the pool. I was having a hard time deciding on a drink and He recommended this amazing gin that I had never heard of. If you find yourself at Fairmont Austin pool ask for Alif to be your server.                                                                                                                                                                                                                                                                                                                                                                                                                                                                                                                                                                          2\n",
      "We came into town for the Make-A-Wish Gala which was great and done really well. The experience with the property was less than impressive. When checking out we called for luggage services to come and after waiting 30 minutes I went down and had to ask in person to get someone to come up. I had called for our vehicle to be pulled up when the Bell Desk had said that they would be right up. Once we got down with our luggage the Valet told my wife she needed to move the vehicle as it had been there too long. She let them know that I was in waiting to check out and the said that was no reason and that they would need to repark the vehicle that my kids where in the back. I finally got done checking out and we where able to leave. Will never go back.                                  2\n",
      "Beautiful hotel with wonderful staff!! Fulton was absolutely amazing and the most frequented part of my trip. Lladira and Justin were both awesome! Sweet, attentive and definitely knowledgeable in the spirits department! Biggy was also wonderful, gracious, attentive and accommodating !! 10/10 service all around Only negative thing about the whole experience was those elevators! Very janky, a little too fast, and left me delirious every time lol Definitely will be my go to hotel in Austin!                                                                                                                                                                                                                                                                                                       2\n",
      "                                                                                                                                                                                                                                                                                                                                                                                                                                                                                                                                                                                                                                                                                                                                                                                                                   ..\n",
      "This hotel is not to far from downtown, but surrounded by restaurants and shopping places, quiet, awesome staff, with spacious, clean and very very comfortable rooms, convenient laundry facility, minimart and a pool (for the summertime). There's ample parking jjust a stone throw away from the main door if you're suddenly caught in the rain or too cold to walk to and from the car. We felt very safe coming back to the hotel late at night. Awesome Breakfast is served every morning!                                                                                                                                                                                                                                                                                                                 1\n",
      "Great value, Great staff. Sadly this last visit the restaurant dinner was not good. Back board was loose & bangs on wall so towel took care of that. Then found lots of stains on bath towel that of course I did not use. But again overall Staff was great. & I would stay here Again.                                                                                                                                                                                                                                                                                                                                                                                                                                                                                                                            1\n",
      "I would give this room a 5 but it was next to the interstate and was a little noisy. My fault for picking the location though. The room was very nice and very clean, as was the rest of the hotel, and the price was outstanding! Highly recommend this hotel.                                                                                                                                                                                                                                                                                                                                                                                                                                                                                                                                                     1\n",
      "The bed linens and towels were clean and fresh. The beds were comfortable. I didn’t hear my neighbors, the room was quiet. Breakfast was great. Lots of options for my children. Very happy with my stay.                                                                                                                                                                                                                                                                                                                                                                                                                                                                                                                                                                                                           1\n",
      "Room was very clean and the staff was very helpful and friendly. The place was very quiet with no noise in the area. Very convenient in how close it is to the San Antonio Airport as well as to other places nearby                                                                                                                                                                                                                                                                                                                                                                                                                                                                                                                                                                                                1\n",
      "Name: review, Length: 13732, dtype: int64\n",
      "---------------------------\n"
     ]
    }
   ],
   "source": [
    "for i in df.columns:\n",
    "    print(df[i].value_counts())\n",
    "    print('---------------------------')"
   ]
  },
  {
   "cell_type": "markdown",
   "id": "62c38260-0c19-4dd3-ae90-38a96ac6fa69",
   "metadata": {},
   "source": [
    "#### Acquire Findings "
   ]
  },
  {
   "cell_type": "markdown",
   "id": "e22eb883-864f-4067-b6e0-23a04f51dd94",
   "metadata": {},
   "source": [
    "#### TO-Do's:\n",
    "1). The cap for reviews was 35, since there are vlaue counts of 70, and 2, some duplicates need to be removed.\n",
    "\n",
    "2). Month and year can be in their own seperate columns, then aggregated together when  utilizing group bys\n",
    "\n",
    "3.) no null values or missign values. \n",
    "\n",
    "4.) Mean for review ratings for 3.62\n",
    "\n",
    "5.) Standardize english words using NLP processing, Standard cleaning using NLTK, lammentizing and removing stop words"
   ]
  },
  {
   "cell_type": "markdown",
   "id": "060b2b49-c800-4eee-8d7a-f1e61a7b3b4b",
   "metadata": {},
   "source": [
    "#### Prepare"
   ]
  },
  {
   "cell_type": "code",
   "execution_count": 8,
   "id": "785a2895-07f5-471f-9cf1-8478d9e049be",
   "metadata": {},
   "outputs": [],
   "source": [
    "#drop duplicates\n",
    "df = df.drop_duplicates(keep='first')"
   ]
  },
  {
   "cell_type": "code",
   "execution_count": 9,
   "id": "5dfd63e5-8b84-4608-a921-54d6c8ab98dc",
   "metadata": {},
   "outputs": [
    {
     "name": "stderr",
     "output_type": "stream",
     "text": [
      "/opt/homebrew/anaconda3/lib/python3.8/site-packages/pandas/core/frame.py:3191: SettingWithCopyWarning: \n",
      "A value is trying to be set on a copy of a slice from a DataFrame.\n",
      "Try using .loc[row_indexer,col_indexer] = value instead\n",
      "\n",
      "See the caveats in the documentation: https://pandas.pydata.org/pandas-docs/stable/user_guide/indexing.html#returning-a-view-versus-a-copy\n",
      "  self[k1] = value[k2]\n"
     ]
    }
   ],
   "source": [
    "df[['month_of_stay', 'year_of_stay']] = df.date_of_stay.str.strip().str.split(' ', n = 1, expand=True)"
   ]
  },
  {
   "cell_type": "code",
   "execution_count": 10,
   "id": "dd385954-a5ba-4b5f-b6da-8b5bd3cd0957",
   "metadata": {},
   "outputs": [],
   "source": [
    "df = df.drop(columns='date_of_stay')"
   ]
  },
  {
   "cell_type": "code",
   "execution_count": 20,
   "id": "5d7ef43e-9d57-4403-bfbb-cd956d220fe8",
   "metadata": {},
   "outputs": [],
   "source": [
    "#function does a basic clean, utilizing NFDK unicode and utf-8, ltokenizes and lammentizes words. removes stop words, keeping negative stop words. \n",
    "df = prepare.prep_nlp_data(df, 'review', exclude_words=['not', 'no', 'none'])"
   ]
  },
  {
   "cell_type": "code",
   "execution_count": 21,
   "id": "c623e31e-e009-48a3-b2a2-7a7893a3f102",
   "metadata": {},
   "outputs": [
    {
     "data": {
      "text/html": [
       "<div>\n",
       "<style scoped>\n",
       "    .dataframe tbody tr th:only-of-type {\n",
       "        vertical-align: middle;\n",
       "    }\n",
       "\n",
       "    .dataframe tbody tr th {\n",
       "        vertical-align: top;\n",
       "    }\n",
       "\n",
       "    .dataframe thead th {\n",
       "        text-align: right;\n",
       "    }\n",
       "</style>\n",
       "<table border=\"1\" class=\"dataframe\">\n",
       "  <thead>\n",
       "    <tr style=\"text-align: right;\">\n",
       "      <th></th>\n",
       "      <th>hotel_name</th>\n",
       "      <th>hotel_city</th>\n",
       "      <th>review_rating</th>\n",
       "      <th>review</th>\n",
       "      <th>month_of_stay</th>\n",
       "      <th>year_of_stay</th>\n",
       "      <th>review_cleaned</th>\n",
       "    </tr>\n",
       "  </thead>\n",
       "  <tbody>\n",
       "    <tr>\n",
       "      <th>8942</th>\n",
       "      <td>Best Western Alamo Suites</td>\n",
       "      <td>San Antonio</td>\n",
       "      <td>4</td>\n",
       "      <td>Front desk workers are not very friendly. The hotel is a nice size not too far from everything. Good amenities breakfast was nice. Coming from out of state I thought the hotel was in a sketchy neighborhood. Doesn’t look the best around</td>\n",
       "      <td>June</td>\n",
       "      <td>2021</td>\n",
       "      <td>front desk worker not friendly hotel nice size not far everything good amenity breakfast wa nice coming state thought hotel wa sketchy neighborhood doesnt look best around</td>\n",
       "    </tr>\n",
       "    <tr>\n",
       "      <th>11912</th>\n",
       "      <td>Guestwiser Apartments Downtown Dallas</td>\n",
       "      <td>Dallas</td>\n",
       "      <td>5</td>\n",
       "      <td>This place is beautiful and right in the middle of downtown. It was perfect for a weekend trip to the city with a group of friends. The host was very helpful and responsive during our whole trip. Also, the place was spotless when we arrived!</td>\n",
       "      <td>June</td>\n",
       "      <td>2019</td>\n",
       "      <td>place beautiful right middle downtown wa perfect weekend trip city group friend host wa helpful responsive whole trip also place wa spotless arrived</td>\n",
       "    </tr>\n",
       "    <tr>\n",
       "      <th>1189</th>\n",
       "      <td>Hilton Austin</td>\n",
       "      <td>Austin</td>\n",
       "      <td>1</td>\n",
       "      <td>This Hilton has gone downhill ever since the pandemic started and has seem to gotten worse. First, they’ve taken away the free room upgrades for Diamond Members and stated “it’s a higher floor”. Before we were placed on the floor with the executive lounge or higher. The executive lounge is still closed and they’re not offering any of the snacks and drinks in the lobby like they did for us during the pandemic. It’s like they’ve completely eliminated the diamond member benefits. No bottled water was in our room and we had to go to the front desk to ask for it. The only thing that our status got was a $12 per person food credit for an unpleasant breakfast buffet that cost $24/person… Next, the electric vehicle chargers are not being maintained and only one cord is available now</td>\n",
       "      <td>July</td>\n",
       "      <td>2021</td>\n",
       "      <td>hilton ha gone downhill ever since pandemic started ha seem gotten worse first theyve taken away free room upgrade diamond member stated higher floor placed floor executive lounge higher executive lounge still closed theyre not offering snack drink lobby like u pandemic like theyve completely eliminated diamond member benefit no bottled water wa room go front desk ask thing status got wa 12 per person food credit unpleasant breakfast buffet cost 24person next electric vehicle charger not maintained one cord available</td>\n",
       "    </tr>\n",
       "    <tr>\n",
       "      <th>10500</th>\n",
       "      <td>Best Western Plus Sunset Suites-Riverwalk</td>\n",
       "      <td>San Antonio</td>\n",
       "      <td>4</td>\n",
       "      <td>Quiet little hotel within walking distance to the Riverwalk. It is not 3 regular blocks, it's three city blocks and going under a overpass. The walk was fun and we had a great time. The residents helped us when we got turned around and as two females, we felt safe walking at night</td>\n",
       "      <td>September</td>\n",
       "      <td>2020</td>\n",
       "      <td>quiet little hotel within walking distance riverwalk not 3 regular block three city block going overpass walk wa fun great time resident helped u got turned around two female felt safe walking night</td>\n",
       "    </tr>\n",
       "    <tr>\n",
       "      <th>10284</th>\n",
       "      <td>Houston Marriott North</td>\n",
       "      <td>Houston</td>\n",
       "      <td>4</td>\n",
       "      <td>I stayed at this hotel twice in October stopping over on my way to and from holiday as IAH was my departure airport. The hotel is conveniently located within 15 minutes of the airport and the shuttle runs frequently so there is very little waiting. The room was what I would expect from a Marriott - the standard is consistent and if you have stayed at one, you will not be disappointed. Breakfast is fresh and plentiful if you order the buffet, but if you order off the menu your wait time is relatively short. The hotel does host a lot of travelling sports teams, so be aware that tables may be hard to get if your timing isn’t just right... During our stay, my husband and I encountered some issues not related to the hotel and I would like to say, the staff at the hotel were…</td>\n",
       "      <td>October</td>\n",
       "      <td>2019</td>\n",
       "      <td>stayed hotel twice october stopping way holiday iah wa departure airport hotel conveniently located within 15 minute airport shuttle run frequently little waiting room wa would expect marriott standard consistent stayed one not disappointed breakfast fresh plentiful order buffet order menu wait time relatively short hotel doe host lot travelling sport team aware table may hard get timing isnt right stay husband encountered issue not related hotel would like say staff hotel</td>\n",
       "    </tr>\n",
       "  </tbody>\n",
       "</table>\n",
       "</div>"
      ],
      "text/plain": [
       "                                      hotel_name   hotel_city  review_rating  \\\n",
       "8942                   Best Western Alamo Suites  San Antonio              4   \n",
       "11912      Guestwiser Apartments Downtown Dallas       Dallas              5   \n",
       "1189                               Hilton Austin       Austin              1   \n",
       "10500  Best Western Plus Sunset Suites-Riverwalk  San Antonio              4   \n",
       "10284                     Houston Marriott North      Houston              4   \n",
       "\n",
       "                                                                                                                                                                                                                                                                                                                                                                                                                                                                                                                                                                                                                                                                                                                                                                                                                  review  \\\n",
       "8942                                                                                                                                                                                                                                                                                                                                                                                                                                                                                                                                                                         Front desk workers are not very friendly. The hotel is a nice size not too far from everything. Good amenities breakfast was nice. Coming from out of state I thought the hotel was in a sketchy neighborhood. Doesn’t look the best around   \n",
       "11912                                                                                                                                                                                                                                                                                                                                                                                                                                                                                                                                                                  This place is beautiful and right in the middle of downtown. It was perfect for a weekend trip to the city with a group of friends. The host was very helpful and responsive during our whole trip. Also, the place was spotless when we arrived!   \n",
       "1189   This Hilton has gone downhill ever since the pandemic started and has seem to gotten worse. First, they’ve taken away the free room upgrades for Diamond Members and stated “it’s a higher floor”. Before we were placed on the floor with the executive lounge or higher. The executive lounge is still closed and they’re not offering any of the snacks and drinks in the lobby like they did for us during the pandemic. It’s like they’ve completely eliminated the diamond member benefits. No bottled water was in our room and we had to go to the front desk to ask for it. The only thing that our status got was a $12 per person food credit for an unpleasant breakfast buffet that cost $24/person… Next, the electric vehicle chargers are not being maintained and only one cord is available now   \n",
       "10500                                                                                                                                                                                                                                                                                                                                                                                                                                                                                                                          Quiet little hotel within walking distance to the Riverwalk. It is not 3 regular blocks, it's three city blocks and going under a overpass. The walk was fun and we had a great time. The residents helped us when we got turned around and as two females, we felt safe walking at night   \n",
       "10284       I stayed at this hotel twice in October stopping over on my way to and from holiday as IAH was my departure airport. The hotel is conveniently located within 15 minutes of the airport and the shuttle runs frequently so there is very little waiting. The room was what I would expect from a Marriott - the standard is consistent and if you have stayed at one, you will not be disappointed. Breakfast is fresh and plentiful if you order the buffet, but if you order off the menu your wait time is relatively short. The hotel does host a lot of travelling sports teams, so be aware that tables may be hard to get if your timing isn’t just right... During our stay, my husband and I encountered some issues not related to the hotel and I would like to say, the staff at the hotel were…   \n",
       "\n",
       "      month_of_stay year_of_stay  \\\n",
       "8942           June         2021   \n",
       "11912          June         2019   \n",
       "1189           July         2021   \n",
       "10500     September         2020   \n",
       "10284       October         2019   \n",
       "\n",
       "                                                                                                                                                                                                                                                                                                                                                                                                                                                                                                                                   review_cleaned  \n",
       "8942                                                                                                                                                                                                                                                                                                                                                                  front desk worker not friendly hotel nice size not far everything good amenity breakfast wa nice coming state thought hotel wa sketchy neighborhood doesnt look best around  \n",
       "11912                                                                                                                                                                                                                                                                                                                                                                                        place beautiful right middle downtown wa perfect weekend trip city group friend host wa helpful responsive whole trip also place wa spotless arrived  \n",
       "1189   hilton ha gone downhill ever since pandemic started ha seem gotten worse first theyve taken away free room upgrade diamond member stated higher floor placed floor executive lounge higher executive lounge still closed theyre not offering snack drink lobby like u pandemic like theyve completely eliminated diamond member benefit no bottled water wa room go front desk ask thing status got wa 12 per person food credit unpleasant breakfast buffet cost 24person next electric vehicle charger not maintained one cord available  \n",
       "10500                                                                                                                                                                                                                                                                                                                                      quiet little hotel within walking distance riverwalk not 3 regular block three city block going overpass walk wa fun great time resident helped u got turned around two female felt safe walking night  \n",
       "10284                                               stayed hotel twice october stopping way holiday iah wa departure airport hotel conveniently located within 15 minute airport shuttle run frequently little waiting room wa would expect marriott standard consistent stayed one not disappointed breakfast fresh plentiful order buffet order menu wait time relatively short hotel doe host lot travelling sport team aware table may hard get timing isnt right stay husband encountered issue not related hotel would like say staff hotel  "
      ]
     },
     "execution_count": 21,
     "metadata": {},
     "output_type": "execute_result"
    }
   ],
   "source": [
    "df.sample(5)"
   ]
  },
  {
   "cell_type": "code",
   "execution_count": null,
   "id": "ed6b7e8e-e5a8-43d9-ac0e-efa4bf774d38",
   "metadata": {},
   "outputs": [],
   "source": []
  },
  {
   "cell_type": "code",
   "execution_count": null,
   "id": "54b7e4fc-6208-41bd-8219-896e9c05a91b",
   "metadata": {},
   "outputs": [],
   "source": []
  }
 ],
 "metadata": {
  "kernelspec": {
   "display_name": "Python 3",
   "language": "python",
   "name": "python3"
  },
  "language_info": {
   "codemirror_mode": {
    "name": "ipython",
    "version": 3
   },
   "file_extension": ".py",
   "mimetype": "text/x-python",
   "name": "python",
   "nbconvert_exporter": "python",
   "pygments_lexer": "ipython3",
   "version": "3.8.10"
  }
 },
 "nbformat": 4,
 "nbformat_minor": 5
}
