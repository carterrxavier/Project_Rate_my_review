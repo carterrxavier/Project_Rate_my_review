{
 "cells": [
  {
   "cell_type": "code",
   "execution_count": 89,
   "id": "39d9902d-2197-4929-91b7-65c3dc91e4b4",
   "metadata": {},
   "outputs": [],
   "source": [
    "### Selinium script that loops through pages. trial and error process\n",
    "import pandas as pd\n",
    "import numpy as np\n",
    "import re\n",
    "import requests, json\n",
    "from selenium import webdriver\n",
    "from selenium.webdriver.common.keys import Keys\n",
    "from selenium.common.exceptions import TimeoutException\n",
    "from selenium.webdriver.common.by import By\n",
    "import selenium.webdriver.support.ui as ui\n",
    "import selenium.webdriver.support.expected_conditions as EC\n",
    "import os\n",
    "import time\n",
    "import datetime"
   ]
  },
  {
   "cell_type": "code",
   "execution_count": 90,
   "id": "eb7b60f9-2d8b-4594-a99c-f01d8dc3391e",
   "metadata": {},
   "outputs": [],
   "source": [
    "options = webdriver.ChromeOptions()\n",
    "options.add_argument('--ignore-certificate-errors')\n",
    "options.add_argument('--ignore-ssl-errors')\n",
    "dir_path = os.path.dirname(os.path.realpath('chromedriver'))\n",
    "#options.add_argument('--headless')\n",
    "#options.add_argument('--disable-gpu') \n",
    "chromedriver = dir_path + '/chromedriver'\n",
    "os.environ['webdriver.chrome.driver'] = chromedriver"
   ]
  },
  {
   "cell_type": "code",
   "execution_count": 91,
   "id": "966fd0ff-fdf7-4097-a35e-812614e92727",
   "metadata": {},
   "outputs": [],
   "source": [
    "links = pd.read_csv('hotel_links.csv')"
   ]
  },
  {
   "cell_type": "code",
   "execution_count": 92,
   "id": "7be2bd70-f490-4eb5-9fca-7ea4d0da2fff",
   "metadata": {},
   "outputs": [
    {
     "data": {
      "text/plain": [
       "633"
      ]
     },
     "execution_count": 92,
     "metadata": {},
     "output_type": "execute_result"
    }
   ],
   "source": [
    "len(links)"
   ]
  },
  {
   "cell_type": "code",
   "execution_count": 93,
   "id": "a706155e-2c82-4e29-836b-296726f1dbc1",
   "metadata": {},
   "outputs": [],
   "source": [
    "links = links.drop_duplicates()"
   ]
  },
  {
   "cell_type": "code",
   "execution_count": 98,
   "id": "aeb4043a-cd35-4eda-9ef4-a5829bcdff39",
   "metadata": {},
   "outputs": [],
   "source": [
    "links.total_reviews = links['total_reviews'].str.split(' ', n=1 , expand= True)[0]\n",
    "links.total_reviews = links.total_reviews.str.replace(',','')\n",
    "links.total_reviews = links.total_reviews.astype(int)"
   ]
  },
  {
   "cell_type": "code",
   "execution_count": 114,
   "id": "27318ddb-0d0a-484e-92c2-71095d4abc04",
   "metadata": {},
   "outputs": [
    {
     "name": "stdout",
     "output_type": "stream",
     "text": [
      "https://www.tripadvisor.com/Hotel_Review-g60956-d625299-Reviews-or0-Drury_Plaza_Hotel_San_Antonio_Riverwalk-San_Antonio_Texas.html#REVIEWS\n",
      "https://www.tripadvisor.com/Hotel_Review-g60956-d625299-Reviews-or5-Drury_Plaza_Hotel_San_Antonio_Riverwalk-San_Antonio_Texas.html#REVIEWS\n",
      "https://www.tripadvisor.com/Hotel_Review-g60956-d625299-Reviews-or10-Drury_Plaza_Hotel_San_Antonio_Riverwalk-San_Antonio_Texas.html#REVIEWS\n",
      "https://www.tripadvisor.com/Hotel_Review-g60956-d625299-Reviews-or15-Drury_Plaza_Hotel_San_Antonio_Riverwalk-San_Antonio_Texas.html#REVIEWS\n",
      "https://www.tripadvisor.com/Hotel_Review-g60956-d625299-Reviews-or20-Drury_Plaza_Hotel_San_Antonio_Riverwalk-San_Antonio_Texas.html#REVIEWS\n",
      "https://www.tripadvisor.com/Hotel_Review-g60956-d625299-Reviews-or25-Drury_Plaza_Hotel_San_Antonio_Riverwalk-San_Antonio_Texas.html#REVIEWS\n",
      "https://www.tripadvisor.com/Hotel_Review-g60956-d625299-Reviews-or30-Drury_Plaza_Hotel_San_Antonio_Riverwalk-San_Antonio_Texas.html#REVIEWS\n",
      "https://www.tripadvisor.com/Hotel_Review-g60956-d258651-Reviews-or0-Hotel_Valencia_Riverwalk-San_Antonio_Texas.html#REVIEWS\n",
      "https://www.tripadvisor.com/Hotel_Review-g60956-d258651-Reviews-or5-Hotel_Valencia_Riverwalk-San_Antonio_Texas.html#REVIEWS\n",
      "https://www.tripadvisor.com/Hotel_Review-g60956-d258651-Reviews-or10-Hotel_Valencia_Riverwalk-San_Antonio_Texas.html#REVIEWS\n",
      "https://www.tripadvisor.com/Hotel_Review-g60956-d258651-Reviews-or15-Hotel_Valencia_Riverwalk-San_Antonio_Texas.html#REVIEWS\n",
      "https://www.tripadvisor.com/Hotel_Review-g60956-d258651-Reviews-or20-Hotel_Valencia_Riverwalk-San_Antonio_Texas.html#REVIEWS\n",
      "https://www.tripadvisor.com/Hotel_Review-g60956-d258651-Reviews-or25-Hotel_Valencia_Riverwalk-San_Antonio_Texas.html#REVIEWS\n",
      "https://www.tripadvisor.com/Hotel_Review-g60956-d258651-Reviews-or30-Hotel_Valencia_Riverwalk-San_Antonio_Texas.html#REVIEWS\n"
     ]
    },
    {
     "ename": "NoSuchWindowException",
     "evalue": "Message: no such window: target window already closed\nfrom unknown error: web view not found\n  (Session info: chrome=92.0.4515.159)\n",
     "output_type": "error",
     "traceback": [
      "\u001b[0;31m---------------------------------------------------------------------------\u001b[0m",
      "\u001b[0;31mNoSuchWindowException\u001b[0m                     Traceback (most recent call last)",
      "\u001b[0;32m<ipython-input-114-5075b1f6bb27>\u001b[0m in \u001b[0;36m<module>\u001b[0;34m\u001b[0m\n\u001b[1;32m     13\u001b[0m         \u001b[0;32melse\u001b[0m\u001b[0;34m:\u001b[0m\u001b[0;34m\u001b[0m\u001b[0;34m\u001b[0m\u001b[0m\n\u001b[1;32m     14\u001b[0m             \u001b[0;32mbreak\u001b[0m\u001b[0;34m\u001b[0m\u001b[0;34m\u001b[0m\u001b[0m\n\u001b[0;32m---> 15\u001b[0;31m     \u001b[0mdriver\u001b[0m\u001b[0;34m.\u001b[0m\u001b[0mclose\u001b[0m\u001b[0;34m(\u001b[0m\u001b[0;34m)\u001b[0m\u001b[0;34m\u001b[0m\u001b[0;34m\u001b[0m\u001b[0m\n\u001b[0m",
      "\u001b[0;32m/opt/homebrew/anaconda3/lib/python3.8/site-packages/selenium/webdriver/remote/webdriver.py\u001b[0m in \u001b[0;36mclose\u001b[0;34m(self)\u001b[0m\n\u001b[1;32m    686\u001b[0m             \u001b[0mdriver\u001b[0m\u001b[0;34m.\u001b[0m\u001b[0mclose\u001b[0m\u001b[0;34m(\u001b[0m\u001b[0;34m)\u001b[0m\u001b[0;34m\u001b[0m\u001b[0;34m\u001b[0m\u001b[0m\n\u001b[1;32m    687\u001b[0m         \"\"\"\n\u001b[0;32m--> 688\u001b[0;31m         \u001b[0mself\u001b[0m\u001b[0;34m.\u001b[0m\u001b[0mexecute\u001b[0m\u001b[0;34m(\u001b[0m\u001b[0mCommand\u001b[0m\u001b[0;34m.\u001b[0m\u001b[0mCLOSE\u001b[0m\u001b[0;34m)\u001b[0m\u001b[0;34m\u001b[0m\u001b[0;34m\u001b[0m\u001b[0m\n\u001b[0m\u001b[1;32m    689\u001b[0m \u001b[0;34m\u001b[0m\u001b[0m\n\u001b[1;32m    690\u001b[0m     \u001b[0;32mdef\u001b[0m \u001b[0mquit\u001b[0m\u001b[0;34m(\u001b[0m\u001b[0mself\u001b[0m\u001b[0;34m)\u001b[0m\u001b[0;34m:\u001b[0m\u001b[0;34m\u001b[0m\u001b[0;34m\u001b[0m\u001b[0m\n",
      "\u001b[0;32m/opt/homebrew/anaconda3/lib/python3.8/site-packages/selenium/webdriver/remote/webdriver.py\u001b[0m in \u001b[0;36mexecute\u001b[0;34m(self, driver_command, params)\u001b[0m\n\u001b[1;32m    319\u001b[0m         \u001b[0mresponse\u001b[0m \u001b[0;34m=\u001b[0m \u001b[0mself\u001b[0m\u001b[0;34m.\u001b[0m\u001b[0mcommand_executor\u001b[0m\u001b[0;34m.\u001b[0m\u001b[0mexecute\u001b[0m\u001b[0;34m(\u001b[0m\u001b[0mdriver_command\u001b[0m\u001b[0;34m,\u001b[0m \u001b[0mparams\u001b[0m\u001b[0;34m)\u001b[0m\u001b[0;34m\u001b[0m\u001b[0;34m\u001b[0m\u001b[0m\n\u001b[1;32m    320\u001b[0m         \u001b[0;32mif\u001b[0m \u001b[0mresponse\u001b[0m\u001b[0;34m:\u001b[0m\u001b[0;34m\u001b[0m\u001b[0;34m\u001b[0m\u001b[0m\n\u001b[0;32m--> 321\u001b[0;31m             \u001b[0mself\u001b[0m\u001b[0;34m.\u001b[0m\u001b[0merror_handler\u001b[0m\u001b[0;34m.\u001b[0m\u001b[0mcheck_response\u001b[0m\u001b[0;34m(\u001b[0m\u001b[0mresponse\u001b[0m\u001b[0;34m)\u001b[0m\u001b[0;34m\u001b[0m\u001b[0;34m\u001b[0m\u001b[0m\n\u001b[0m\u001b[1;32m    322\u001b[0m             response['value'] = self._unwrap_value(\n\u001b[1;32m    323\u001b[0m                 response.get('value', None))\n",
      "\u001b[0;32m/opt/homebrew/anaconda3/lib/python3.8/site-packages/selenium/webdriver/remote/errorhandler.py\u001b[0m in \u001b[0;36mcheck_response\u001b[0;34m(self, response)\u001b[0m\n\u001b[1;32m    240\u001b[0m                 \u001b[0malert_text\u001b[0m \u001b[0;34m=\u001b[0m \u001b[0mvalue\u001b[0m\u001b[0;34m[\u001b[0m\u001b[0;34m'alert'\u001b[0m\u001b[0;34m]\u001b[0m\u001b[0;34m.\u001b[0m\u001b[0mget\u001b[0m\u001b[0;34m(\u001b[0m\u001b[0;34m'text'\u001b[0m\u001b[0;34m)\u001b[0m\u001b[0;34m\u001b[0m\u001b[0;34m\u001b[0m\u001b[0m\n\u001b[1;32m    241\u001b[0m             \u001b[0;32mraise\u001b[0m \u001b[0mexception_class\u001b[0m\u001b[0;34m(\u001b[0m\u001b[0mmessage\u001b[0m\u001b[0;34m,\u001b[0m \u001b[0mscreen\u001b[0m\u001b[0;34m,\u001b[0m \u001b[0mstacktrace\u001b[0m\u001b[0;34m,\u001b[0m \u001b[0malert_text\u001b[0m\u001b[0;34m)\u001b[0m\u001b[0;34m\u001b[0m\u001b[0;34m\u001b[0m\u001b[0m\n\u001b[0;32m--> 242\u001b[0;31m         \u001b[0;32mraise\u001b[0m \u001b[0mexception_class\u001b[0m\u001b[0;34m(\u001b[0m\u001b[0mmessage\u001b[0m\u001b[0;34m,\u001b[0m \u001b[0mscreen\u001b[0m\u001b[0;34m,\u001b[0m \u001b[0mstacktrace\u001b[0m\u001b[0;34m)\u001b[0m\u001b[0;34m\u001b[0m\u001b[0;34m\u001b[0m\u001b[0m\n\u001b[0m\u001b[1;32m    243\u001b[0m \u001b[0;34m\u001b[0m\u001b[0m\n\u001b[1;32m    244\u001b[0m     \u001b[0;32mdef\u001b[0m \u001b[0m_value_or_default\u001b[0m\u001b[0;34m(\u001b[0m\u001b[0mself\u001b[0m\u001b[0;34m,\u001b[0m \u001b[0mobj\u001b[0m\u001b[0;34m,\u001b[0m \u001b[0mkey\u001b[0m\u001b[0;34m,\u001b[0m \u001b[0mdefault\u001b[0m\u001b[0;34m)\u001b[0m\u001b[0;34m:\u001b[0m\u001b[0;34m\u001b[0m\u001b[0;34m\u001b[0m\u001b[0m\n",
      "\u001b[0;31mNoSuchWindowException\u001b[0m: Message: no such window: target window already closed\nfrom unknown error: web view not found\n  (Session info: chrome=92.0.4515.159)\n"
     ]
    }
   ],
   "source": [
    "for link in range(len(links)):\n",
    "    index = 0\n",
    "    url = links.links[link]\n",
    "    driver = webdriver.Chrome(executable_path=chromedriver, options = options)\n",
    "    driver.get(url)\n",
    "    while index <= links.total_reviews[link] / 5:\n",
    "        if index <= 25:\n",
    "            print(url)\n",
    "            current_page = '-or{}-'.format(index)\n",
    "            next_page = '-or{}-'.format(index + 5)\n",
    "            url = url.replace(current_page, next_page)\n",
    "            index += 5\n",
    "        else:\n",
    "            break\n",
    "    driver.close()"
   ]
  },
  {
   "cell_type": "code",
   "execution_count": null,
   "id": "efe35790-6735-47fd-b0f6-85c43520d358",
   "metadata": {},
   "outputs": [],
   "source": []
  }
 ],
 "metadata": {
  "kernelspec": {
   "display_name": "Python 3",
   "language": "python",
   "name": "python3"
  },
  "language_info": {
   "codemirror_mode": {
    "name": "ipython",
    "version": 3
   },
   "file_extension": ".py",
   "mimetype": "text/x-python",
   "name": "python",
   "nbconvert_exporter": "python",
   "pygments_lexer": "ipython3",
   "version": "3.8.10"
  }
 },
 "nbformat": 4,
 "nbformat_minor": 5
}
