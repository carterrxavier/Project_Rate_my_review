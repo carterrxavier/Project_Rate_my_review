{
 "cells": [
  {
   "cell_type": "code",
   "execution_count": 12,
   "id": "49d97bdc-b2bc-4b40-87a3-3eb7114d1aff",
   "metadata": {},
   "outputs": [],
   "source": [
    "import pandas as pd \n",
    "import numpy as np\n",
    "import prepare\n",
    "#to see the whole review, display max column width\n",
    "pd.set_option('display.max_colwidth', None)"
   ]
  },
  {
   "cell_type": "markdown",
   "id": "91bc892a-628d-4366-ac52-9205a6e39c74",
   "metadata": {},
   "source": [
    "# Rate My Review\n",
    "## An Analysis on Hotel reviews in Texas\n",
    "#### Xavier Carter, September 2021"
   ]
  },
  {
   "cell_type": "markdown",
   "id": "9771eddd-ad29-4ae6-8b60-373b45e71684",
   "metadata": {},
   "source": [
    "----"
   ]
  },
  {
   "cell_type": "markdown",
   "id": "6ca95438-3d45-4f03-a9eb-8a88ca4daa4e",
   "metadata": {},
   "source": [
    "#### The Dataset\n",
    "- Using Selinium, 13,800 reviews were gathered from various hotels across 4 major cities in Texas (Houston, Austin, Dallas, San Antonio)\n",
    "\n",
    "#### Project Goals\n",
    "- Analyze reviews to understand correlation to the review rating and the review. \n",
    "- Build a machine learning model to predict what rating a review should get.\n",
    "\n",
    "#### Executive Summary\n",
    "- Executive Summary here"
   ]
  },
  {
   "cell_type": "markdown",
   "id": "b2aa840b-9795-4124-9e79-77aea29c8cec",
   "metadata": {},
   "source": [
    "----"
   ]
  },
  {
   "cell_type": "markdown",
   "id": "e561ba33-725c-4bce-a29a-2f22f0198835",
   "metadata": {},
   "source": [
    "## Acquire\n",
    "- Utilizing Selinium (see acquire1.py and acquire2.py) , Gathering review information from TripAdvisor.com\n",
    "- For sake of time, the max number of reviews looked at for each hotel was maxed to 35, as some hotels had hundreds of reviews"
   ]
  },
  {
   "cell_type": "code",
   "execution_count": 2,
   "id": "d66e705f-ab11-4ad3-82cc-576318b25e3f",
   "metadata": {},
   "outputs": [],
   "source": [
    "df = pd.read_csv('hotel_data.csv')"
   ]
  },
  {
   "cell_type": "code",
   "execution_count": 3,
   "id": "af57c0d9-3796-4e60-b4a9-3af51c60796a",
   "metadata": {},
   "outputs": [
    {
     "data": {
      "text/html": [
       "<div>\n",
       "<style scoped>\n",
       "    .dataframe tbody tr th:only-of-type {\n",
       "        vertical-align: middle;\n",
       "    }\n",
       "\n",
       "    .dataframe tbody tr th {\n",
       "        vertical-align: top;\n",
       "    }\n",
       "\n",
       "    .dataframe thead th {\n",
       "        text-align: right;\n",
       "    }\n",
       "</style>\n",
       "<table border=\"1\" class=\"dataframe\">\n",
       "  <thead>\n",
       "    <tr style=\"text-align: right;\">\n",
       "      <th></th>\n",
       "      <th>hotel_name</th>\n",
       "      <th>hotel_city</th>\n",
       "      <th>date_of_stay</th>\n",
       "      <th>review_rating</th>\n",
       "      <th>review</th>\n",
       "    </tr>\n",
       "  </thead>\n",
       "  <tbody>\n",
       "    <tr>\n",
       "      <th>0</th>\n",
       "      <td>Drury Plaza Hotel San Antonio Riverwalk</td>\n",
       "      <td>San Antonio</td>\n",
       "      <td>September 2021</td>\n",
       "      <td>5</td>\n",
       "      <td>Joseph was so helpful and attentive! Awesome customer service. Made our trip more enjoyable! This will now be our go to hotel when we come to San Antonio. Everything about the hotel was nice and the staff was very friendly. Very pleased with the whole experience.</td>\n",
       "    </tr>\n",
       "    <tr>\n",
       "      <th>1</th>\n",
       "      <td>Drury Plaza Hotel San Antonio Riverwalk</td>\n",
       "      <td>San Antonio</td>\n",
       "      <td>September 2020</td>\n",
       "      <td>5</td>\n",
       "      <td>We stayed one night at the Drury Plaza Riverwalk in mid-September. Sooo enjoyed our stay. Definitely our favorite hotel on the Riverwalk. We specifically stayed here for the rooms with the balconies overlooking the San Fernando Cathedral. I sat on that balcony all day long, reading and enjoying the view, even despite the day of rain! Love the separate bedroom! The afternoon happy hour could have easily sufficed for dinner had the allure of the Riverwalk restaurants not been there. The indoor pool/hot tub was nice, and the fitness center was perfectly equipped with great views while running the treadmill. The breakfast was hearty and very good quality...love that they have biscuits and gravy! Every employee we encountered was upbeat and kind and seemed to be interested in serving</td>\n",
       "    </tr>\n",
       "  </tbody>\n",
       "</table>\n",
       "</div>"
      ],
      "text/plain": [
       "                                hotel_name   hotel_city     date_of_stay  \\\n",
       "0  Drury Plaza Hotel San Antonio Riverwalk  San Antonio   September 2021   \n",
       "1  Drury Plaza Hotel San Antonio Riverwalk  San Antonio   September 2020   \n",
       "\n",
       "   review_rating  \\\n",
       "0              5   \n",
       "1              5   \n",
       "\n",
       "                                                                                                                                                                                                                                                                                                                                                                                                                                                                                                                                                                                                                                                                                                                                                                                                                  review  \n",
       "0                                                                                                                                                                                                                                                                                                                                                                                                                                                                                                                                                Joseph was so helpful and attentive! Awesome customer service. Made our trip more enjoyable! This will now be our go to hotel when we come to San Antonio. Everything about the hotel was nice and the staff was very friendly. Very pleased with the whole experience.  \n",
       "1  We stayed one night at the Drury Plaza Riverwalk in mid-September. Sooo enjoyed our stay. Definitely our favorite hotel on the Riverwalk. We specifically stayed here for the rooms with the balconies overlooking the San Fernando Cathedral. I sat on that balcony all day long, reading and enjoying the view, even despite the day of rain! Love the separate bedroom! The afternoon happy hour could have easily sufficed for dinner had the allure of the Riverwalk restaurants not been there. The indoor pool/hot tub was nice, and the fitness center was perfectly equipped with great views while running the treadmill. The breakfast was hearty and very good quality...love that they have biscuits and gravy! Every employee we encountered was upbeat and kind and seemed to be interested in serving  "
      ]
     },
     "execution_count": 3,
     "metadata": {},
     "output_type": "execute_result"
    }
   ],
   "source": [
    "df.head(2)"
   ]
  },
  {
   "cell_type": "code",
   "execution_count": 4,
   "id": "d50e0d63-ed8f-42c8-b676-29e1e78d5066",
   "metadata": {},
   "outputs": [
    {
     "name": "stdout",
     "output_type": "stream",
     "text": [
      "<class 'pandas.core.frame.DataFrame'>\n",
      "RangeIndex: 13801 entries, 0 to 13800\n",
      "Data columns (total 5 columns):\n",
      " #   Column         Non-Null Count  Dtype \n",
      "---  ------         --------------  ----- \n",
      " 0   hotel_name     13801 non-null  object\n",
      " 1   hotel_city     13801 non-null  object\n",
      " 2   date_of_stay   13801 non-null  object\n",
      " 3   review_rating  13801 non-null  int64 \n",
      " 4   review         13801 non-null  object\n",
      "dtypes: int64(1), object(4)\n",
      "memory usage: 539.2+ KB\n"
     ]
    }
   ],
   "source": [
    "df.info()"
   ]
  },
  {
   "cell_type": "code",
   "execution_count": 5,
   "id": "817c648a-562b-4580-b52f-b94d631c1942",
   "metadata": {},
   "outputs": [
    {
     "data": {
      "text/plain": [
       "hotel_name       0\n",
       "hotel_city       0\n",
       "date_of_stay     0\n",
       "review_rating    0\n",
       "review           0\n",
       "dtype: int64"
      ]
     },
     "execution_count": 5,
     "metadata": {},
     "output_type": "execute_result"
    }
   ],
   "source": [
    "df.isna().sum()"
   ]
  },
  {
   "cell_type": "code",
   "execution_count": 6,
   "id": "5f1b5ef7-587e-4d4a-8049-ab5696a73b34",
   "metadata": {},
   "outputs": [
    {
     "data": {
      "text/html": [
       "<div>\n",
       "<style scoped>\n",
       "    .dataframe tbody tr th:only-of-type {\n",
       "        vertical-align: middle;\n",
       "    }\n",
       "\n",
       "    .dataframe tbody tr th {\n",
       "        vertical-align: top;\n",
       "    }\n",
       "\n",
       "    .dataframe thead th {\n",
       "        text-align: right;\n",
       "    }\n",
       "</style>\n",
       "<table border=\"1\" class=\"dataframe\">\n",
       "  <thead>\n",
       "    <tr style=\"text-align: right;\">\n",
       "      <th></th>\n",
       "      <th>review_rating</th>\n",
       "    </tr>\n",
       "  </thead>\n",
       "  <tbody>\n",
       "    <tr>\n",
       "      <th>count</th>\n",
       "      <td>13801.000000</td>\n",
       "    </tr>\n",
       "    <tr>\n",
       "      <th>mean</th>\n",
       "      <td>3.622564</td>\n",
       "    </tr>\n",
       "    <tr>\n",
       "      <th>std</th>\n",
       "      <td>1.559053</td>\n",
       "    </tr>\n",
       "    <tr>\n",
       "      <th>min</th>\n",
       "      <td>1.000000</td>\n",
       "    </tr>\n",
       "    <tr>\n",
       "      <th>25%</th>\n",
       "      <td>2.000000</td>\n",
       "    </tr>\n",
       "    <tr>\n",
       "      <th>50%</th>\n",
       "      <td>4.000000</td>\n",
       "    </tr>\n",
       "    <tr>\n",
       "      <th>75%</th>\n",
       "      <td>5.000000</td>\n",
       "    </tr>\n",
       "    <tr>\n",
       "      <th>max</th>\n",
       "      <td>5.000000</td>\n",
       "    </tr>\n",
       "  </tbody>\n",
       "</table>\n",
       "</div>"
      ],
      "text/plain": [
       "       review_rating\n",
       "count   13801.000000\n",
       "mean        3.622564\n",
       "std         1.559053\n",
       "min         1.000000\n",
       "25%         2.000000\n",
       "50%         4.000000\n",
       "75%         5.000000\n",
       "max         5.000000"
      ]
     },
     "execution_count": 6,
     "metadata": {},
     "output_type": "execute_result"
    }
   ],
   "source": [
    "df.describe()"
   ]
  },
  {
   "cell_type": "code",
   "execution_count": 7,
   "id": "05517f01-0f33-4947-9ae2-e0d76a6d010e",
   "metadata": {},
   "outputs": [
    {
     "name": "stdout",
     "output_type": "stream",
     "text": [
      "Fairmont Austin                                          70\n",
      "La Cantera Resort & Spa                                  70\n",
      "Hotel San Jose                                           35\n",
      "Athens Hotel Suites                                      35\n",
      "La Quinta by Wyndham Houston Willowbrook Vintage Park    35\n",
      "                                                         ..\n",
      "Best Value Inn of San Antonio/Kirby                       1\n",
      "Hampton Inn & Suites Dallas I-30 Cockrell Hill            1\n",
      "Ramada Limited Addison                                    1\n",
      "Grand Inn                                                 1\n",
      "GreenTree Hotel Houston Hobby                             1\n",
      "Name: hotel_name, Length: 548, dtype: int64\n",
      "---------------------------\n",
      "Austin         4033\n",
      "San Antonio    3633\n",
      "Houston        3574\n",
      "Dallas         2561\n",
      "Name: hotel_city, dtype: int64\n",
      "---------------------------\n",
      " August 2021      1356\n",
      " July 2021        1215\n",
      " June 2021         696\n",
      " February 2020     696\n",
      " May 2021          695\n",
      "                  ... \n",
      " November 2014       1\n",
      " November 2015       1\n",
      " March 2013          1\n",
      " May 2014            1\n",
      " January 2012        1\n",
      "Name: date_of_stay, Length: 120, dtype: int64\n",
      "---------------------------\n",
      "5    6344\n",
      "1    2518\n",
      "4    2192\n",
      "3    1495\n",
      "2    1252\n",
      "Name: review_rating, dtype: int64\n",
      "---------------------------\n",
      "Everything was great. Only problem we had was the dining was very costly. Nothing cheaper than a $12 burger. Otherwise we had a blast, and would definitely recommend this place and also go back ourselves!                                                                                                                                                                                                                                                                                                                                                                                                                                                                                                                                                                                                           2\n",
      "We upgraded our room to the adult only floor which came with some nice amenities. We reserved a cabana at the adult pool and we received excellent service from our wait staff. We used the concierge who created a wine tasting itinerary which was amazing. We ate at two of the restaurants, we had good food and great service. All the hotel staff were very friendly and helpful. I highly recommend this resort.                                                                                                                                                                                                                                                                                                                                                                                                2\n",
      "We came into town for the Make-A-Wish Gala which was great and done really well. The experience with the property was less than impressive. When checking out we called for luggage services to come and after waiting 30 minutes I went down and had to ask in person to get someone to come up. I had called for our vehicle to be pulled up when the Bell Desk had said that they would be right up. Once we got down with our luggage the Valet told my wife she needed to move the vehicle as it had been there too long. She let them know that I was in waiting to check out and the said that was no reason and that they would need to repark the vehicle that my kids where in the back. I finally got done checking out and we where able to leave. Will never go back.                                     2\n",
      "Son and his bride stayed here the night after their wedding and absolutely loved this resort. The staff went well beyond to make it a special evening with rose petals, champagne and glasses and a beautiful view to top it off.                                                                                                                                                                                                                                                                                                                                                                                                                                                                                                                                                                                      2\n",
      "I'm not usually one to write reviews, but the Fairmont in Austin merits one. My journey to Austin began as a hasty evacuation from Louisiana due to Hurricane Ida. I didn't have much time to plan and was only concerned with getting out of the storm's path. Before staying at the Fairmont, I stayed at two different hotels in Austin. These two were primarily chosen because they were recommended by a close friend of mine. However, after venturing around Austin, a local advised me to stay at the Fairmont hotel. I wasn't opposed because the pricing looked reasonable, and after two days in Austin, I knew exactly where the building was located. (It's huge, and you definitely wouldn’t be able to miss it.) I realized the entire \"experience\" was different the instant I arrived at the         2\n",
      "                                                                                                                                                                                                                                                                                                                                                                                                                                                                                                                                                                                                                                                                                                                                                                                                                      ..\n",
      "The Hotel was worn looking..the room wasn’t throughly cleaned..the toilet wasn’t working properly..water settled into bathtub/never drained..there was a shortage of towels..night hotel front desk clerk was RUDE                                                                                                                                                                                                                                                                                                                                                                                                                                                                                                                                                                                                     1\n",
      "Ac issues with no control of thermostat in room. The furniture and rooms are in need of an upgrade. The bathrooms are very tight and small. We had to check out and find a different hotel due to heat and fan temp blowing from vents not cooling. Just horrible also ice machines empty.                                                                                                                                                                                                                                                                                                                                                                                                                                                                                                                             1\n",
      "The front desk clerk was clueless. She was unable to solve my initial problem of a chirping smoking alarm. The mattresses had blood stains on which I was encouraged to sleep on. I requested fresh towels everyday but never received any. I had to go buy some instead.                                                                                                                                                                                                                                                                                                                                                                                                                                                                                                                                              1\n",
      "Negative Comments: 1. The actual price at check in is a little higher than when I booked the room. The night manager could not explain why. 2. We were given Room 156. There's no power in the room. None of the lights worked. She asked me to double check the light switches to no avail. 3. We moved to Room 106. We booked a non-smoking room and the room had a strong cigarette odor. There were cigarette burns/holes on the blanket and seat cushion. The night manager insisted that it's a non-smoking room and she said that they recycle the blankets, whatever that means. I checked the room number placards on the other rooms and some placards had a no smoking sign. This room did not have a no smoking sign. The phone had no dial tone, so I had to walk back to the front desk for the third    1\n",
      "Horrifically rude night staff. Nasty rooms. Will never stay here again & plan on getting my money back. Fair warning, don't stay here. I was treated like a child when I've been a sales & marketing manager for six years. Pathetic.                                                                                                                                                                                                                                                                                                                                                                                                                                                                                                                                                                                  1\n",
      "Name: review, Length: 13732, dtype: int64\n",
      "---------------------------\n"
     ]
    }
   ],
   "source": [
    "for i in df.columns:\n",
    "    print(df[i].value_counts())\n",
    "    print('---------------------------')"
   ]
  },
  {
   "cell_type": "markdown",
   "id": "62c38260-0c19-4dd3-ae90-38a96ac6fa69",
   "metadata": {},
   "source": [
    "#### Acquire Findings "
   ]
  },
  {
   "cell_type": "markdown",
   "id": "e22eb883-864f-4067-b6e0-23a04f51dd94",
   "metadata": {},
   "source": [
    "#### TO-Do's:\n",
    "1). The cap for reviews was 35, each review being unique, since value counts of 70 and 2 were seen, duplicates exist in the data. duplicates need to be removed.\n",
    "\n",
    "2). Month and year can be in their own seperate columns.\n",
    "\n",
    "3.) no null values or missing values. \n",
    "\n",
    "4.) Standardize english words using NLP processing, Standard cleaning using NLTK."
   ]
  },
  {
   "cell_type": "markdown",
   "id": "060b2b49-c800-4eee-8d7a-f1e61a7b3b4b",
   "metadata": {},
   "source": [
    "## Prepare\n",
    "- In Preperation, we will\n",
    "     * Drop Duplicates\n",
    "     * Split month and year into seperate columns \n",
    "     * Drop date of stay column\n",
    "     * Prep review content (Basic cleaning, tokenizing, lemmentizing, removing stop words, excluding common negative stop words. As they add to negative sentiment)\n",
    "     * Makeing columns for word and letter count\n",
    "     * creating columns for negative , postive and neautral sentiment"
   ]
  },
  {
   "cell_type": "code",
   "execution_count": 8,
   "id": "70bbae7e-3065-41a2-830f-b9922231f854",
   "metadata": {},
   "outputs": [],
   "source": [
    "df = prepare.prep_review_data(df)"
   ]
  },
  {
   "cell_type": "code",
   "execution_count": 10,
   "id": "5ea5d6f1-4471-46bc-8117-ca259464f72f",
   "metadata": {},
   "outputs": [
    {
     "data": {
      "text/html": [
       "<div>\n",
       "<style scoped>\n",
       "    .dataframe tbody tr th:only-of-type {\n",
       "        vertical-align: middle;\n",
       "    }\n",
       "\n",
       "    .dataframe tbody tr th {\n",
       "        vertical-align: top;\n",
       "    }\n",
       "\n",
       "    .dataframe thead th {\n",
       "        text-align: right;\n",
       "    }\n",
       "</style>\n",
       "<table border=\"1\" class=\"dataframe\">\n",
       "  <thead>\n",
       "    <tr style=\"text-align: right;\">\n",
       "      <th></th>\n",
       "      <th>hotel_name</th>\n",
       "      <th>hotel_city</th>\n",
       "      <th>review_rating</th>\n",
       "      <th>review</th>\n",
       "      <th>month_of_stay</th>\n",
       "      <th>year_of_stay</th>\n",
       "      <th>review_cleaned</th>\n",
       "      <th>message_length</th>\n",
       "      <th>word_count</th>\n",
       "      <th>postive_sentiment</th>\n",
       "      <th>negative_sentiment</th>\n",
       "      <th>neatral_sentiment</th>\n",
       "    </tr>\n",
       "  </thead>\n",
       "  <tbody>\n",
       "    <tr>\n",
       "      <th>1200</th>\n",
       "      <td>Hilton Austin</td>\n",
       "      <td>Austin</td>\n",
       "      <td>4</td>\n",
       "      <td>I enjoyed my trip but I would say for in the future they should consider putting more food options in the hotel because there was only meat and a salad as options. Not the best for someone trying to eat better or go vegan!</td>\n",
       "      <td>June</td>\n",
       "      <td>2021</td>\n",
       "      <td>enjoyed trip would say future consider putting food option hotel meat salad options. not best someone trying eat better go vegan !</td>\n",
       "      <td>130</td>\n",
       "      <td>22</td>\n",
       "      <td>0.233</td>\n",
       "      <td>0.121</td>\n",
       "      <td>0.646</td>\n",
       "    </tr>\n",
       "    <tr>\n",
       "      <th>12512</th>\n",
       "      <td>Super 8 by Wyndham Houston Hobby Airport South</td>\n",
       "      <td>Houston</td>\n",
       "      <td>5</td>\n",
       "      <td>Very Clean Rooms and nice helpful staff. This Hotel is nice and quiet, staff is helpful, it’s close to shopping area and food. Very clean . Close to freeway. Love their free breakfast and free WiFi that actually works.</td>\n",
       "      <td>September</td>\n",
       "      <td>2018</td>\n",
       "      <td>clean room nice helpful staff. hotel nice quiet , staff helpful , close shopping area food. clean . close freeway. love free breakfast free wifi actually work .</td>\n",
       "      <td>160</td>\n",
       "      <td>28</td>\n",
       "      <td>0.671</td>\n",
       "      <td>0.000</td>\n",
       "      <td>0.329</td>\n",
       "    </tr>\n",
       "    <tr>\n",
       "      <th>2446</th>\n",
       "      <td>Magnolia Hotel Dallas Downtown</td>\n",
       "      <td>Dallas</td>\n",
       "      <td>1</td>\n",
       "      <td>The only good thing about this property was the valet service. 27 floors and only 2 of 7 elevators working. When I complained, the response was \"we're an old hotel.\" The bar and restaurant are shut down. I'd have been better of at Motel 6!</td>\n",
       "      <td>June</td>\n",
       "      <td>2021</td>\n",
       "      <td>good thing property valet service. 27 floor 2 7 elevator working. complained , response \" ' old hotel. \" bar restaurant shut down. ' better motel 6 !</td>\n",
       "      <td>149</td>\n",
       "      <td>28</td>\n",
       "      <td>0.246</td>\n",
       "      <td>0.109</td>\n",
       "      <td>0.645</td>\n",
       "    </tr>\n",
       "  </tbody>\n",
       "</table>\n",
       "</div>"
      ],
      "text/plain": [
       "                                           hotel_name hotel_city  \\\n",
       "1200                                    Hilton Austin     Austin   \n",
       "12512  Super 8 by Wyndham Houston Hobby Airport South    Houston   \n",
       "2446                   Magnolia Hotel Dallas Downtown     Dallas   \n",
       "\n",
       "       review_rating  \\\n",
       "1200               4   \n",
       "12512              5   \n",
       "2446               1   \n",
       "\n",
       "                                                                                                                                                                                                                                                review  \\\n",
       "1200                    I enjoyed my trip but I would say for in the future they should consider putting more food options in the hotel because there was only meat and a salad as options. Not the best for someone trying to eat better or go vegan!   \n",
       "12512                       Very Clean Rooms and nice helpful staff. This Hotel is nice and quiet, staff is helpful, it’s close to shopping area and food. Very clean . Close to freeway. Love their free breakfast and free WiFi that actually works.   \n",
       "2446   The only good thing about this property was the valet service. 27 floors and only 2 of 7 elevators working. When I complained, the response was \"we're an old hotel.\" The bar and restaurant are shut down. I'd have been better of at Motel 6!   \n",
       "\n",
       "      month_of_stay year_of_stay  \\\n",
       "1200           June         2021   \n",
       "12512     September         2018   \n",
       "2446           June         2021   \n",
       "\n",
       "                                                                                                                                                         review_cleaned  \\\n",
       "1200                                 enjoyed trip would say future consider putting food option hotel meat salad options. not best someone trying eat better go vegan !   \n",
       "12512  clean room nice helpful staff. hotel nice quiet , staff helpful , close shopping area food. clean . close freeway. love free breakfast free wifi actually work .   \n",
       "2446              good thing property valet service. 27 floor 2 7 elevator working. complained , response \" ' old hotel. \" bar restaurant shut down. ' better motel 6 !   \n",
       "\n",
       "       message_length  word_count  postive_sentiment  negative_sentiment  \\\n",
       "1200              130          22              0.233               0.121   \n",
       "12512             160          28              0.671               0.000   \n",
       "2446              149          28              0.246               0.109   \n",
       "\n",
       "       neatral_sentiment  \n",
       "1200               0.646  \n",
       "12512              0.329  \n",
       "2446               0.645  "
      ]
     },
     "execution_count": 10,
     "metadata": {},
     "output_type": "execute_result"
    }
   ],
   "source": [
    "df.sample(3)"
   ]
  },
  {
   "cell_type": "code",
   "execution_count": null,
   "id": "3123cfd5-9d4b-4738-b42d-e1fcc90c58cd",
   "metadata": {},
   "outputs": [],
   "source": []
  }
 ],
 "metadata": {
  "kernelspec": {
   "display_name": "Python 3",
   "language": "python",
   "name": "python3"
  },
  "language_info": {
   "codemirror_mode": {
    "name": "ipython",
    "version": 3
   },
   "file_extension": ".py",
   "mimetype": "text/x-python",
   "name": "python",
   "nbconvert_exporter": "python",
   "pygments_lexer": "ipython3",
   "version": "3.8.10"
  }
 },
 "nbformat": 4,
 "nbformat_minor": 5
}
