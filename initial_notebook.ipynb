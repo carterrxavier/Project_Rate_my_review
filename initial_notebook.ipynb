{
 "cells": [
  {
   "cell_type": "code",
   "execution_count": 1,
   "id": "49d97bdc-b2bc-4b40-87a3-3eb7114d1aff",
   "metadata": {},
   "outputs": [],
   "source": [
    "import pandas as pd \n",
    "import numpy as np\n",
    "import prepare\n",
    "#to see the whole review, display max column width\n",
    "pd.set_option('display.max_colwidth', None)"
   ]
  },
  {
   "cell_type": "markdown",
   "id": "91bc892a-628d-4366-ac52-9205a6e39c74",
   "metadata": {},
   "source": [
    "# Rate My Review\n",
    "## An Analysis on Hotel reviews in Texas\n",
    "#### Xavier Carter, September 2021"
   ]
  },
  {
   "cell_type": "markdown",
   "id": "9771eddd-ad29-4ae6-8b60-373b45e71684",
   "metadata": {},
   "source": [
    "----"
   ]
  },
  {
   "cell_type": "markdown",
   "id": "6ca95438-3d45-4f03-a9eb-8a88ca4daa4e",
   "metadata": {},
   "source": [
    "#### The Dataset\n",
    "- Using Selinium, 13,800 reviews were gathered from various hotels across 4 major cities in Texas (Houston, Austin, Dallas, San Antonio)\n",
    "\n",
    "#### Project Goals\n",
    "- Analyze reviews to understand correlation to the review rating and the review. \n",
    "- Build a machine learning model to predict what rating a review should get.\n",
    "\n",
    "#### Executive Summary\n",
    "- Executive Summary here"
   ]
  },
  {
   "cell_type": "markdown",
   "id": "b2aa840b-9795-4124-9e79-77aea29c8cec",
   "metadata": {},
   "source": [
    "----"
   ]
  },
  {
   "cell_type": "markdown",
   "id": "e561ba33-725c-4bce-a29a-2f22f0198835",
   "metadata": {},
   "source": [
    "## Acquire\n",
    "- Utilizing Selinium (see acquire1.py and acquire2.py) , Gathering review information from TripAdvisor.com\n",
    "- For sake of time, the max number of reviews looked at for each hotel was maxed to 35, as some hotels had hundreds of reviews"
   ]
  },
  {
   "cell_type": "code",
   "execution_count": 2,
   "id": "d66e705f-ab11-4ad3-82cc-576318b25e3f",
   "metadata": {},
   "outputs": [],
   "source": [
    "df = pd.read_csv('hotel_data.csv')"
   ]
  },
  {
   "cell_type": "code",
   "execution_count": 3,
   "id": "af57c0d9-3796-4e60-b4a9-3af51c60796a",
   "metadata": {},
   "outputs": [
    {
     "data": {
      "text/html": [
       "<div>\n",
       "<style scoped>\n",
       "    .dataframe tbody tr th:only-of-type {\n",
       "        vertical-align: middle;\n",
       "    }\n",
       "\n",
       "    .dataframe tbody tr th {\n",
       "        vertical-align: top;\n",
       "    }\n",
       "\n",
       "    .dataframe thead th {\n",
       "        text-align: right;\n",
       "    }\n",
       "</style>\n",
       "<table border=\"1\" class=\"dataframe\">\n",
       "  <thead>\n",
       "    <tr style=\"text-align: right;\">\n",
       "      <th></th>\n",
       "      <th>hotel_name</th>\n",
       "      <th>hotel_city</th>\n",
       "      <th>date_of_stay</th>\n",
       "      <th>review_rating</th>\n",
       "      <th>review</th>\n",
       "    </tr>\n",
       "  </thead>\n",
       "  <tbody>\n",
       "    <tr>\n",
       "      <th>0</th>\n",
       "      <td>Drury Plaza Hotel San Antonio Riverwalk</td>\n",
       "      <td>San Antonio</td>\n",
       "      <td>September 2021</td>\n",
       "      <td>5</td>\n",
       "      <td>Joseph was so helpful and attentive! Awesome customer service. Made our trip more enjoyable! This will now be our go to hotel when we come to San Antonio. Everything about the hotel was nice and the staff was very friendly. Very pleased with the whole experience.</td>\n",
       "    </tr>\n",
       "    <tr>\n",
       "      <th>1</th>\n",
       "      <td>Drury Plaza Hotel San Antonio Riverwalk</td>\n",
       "      <td>San Antonio</td>\n",
       "      <td>September 2020</td>\n",
       "      <td>5</td>\n",
       "      <td>We stayed one night at the Drury Plaza Riverwalk in mid-September. Sooo enjoyed our stay. Definitely our favorite hotel on the Riverwalk. We specifically stayed here for the rooms with the balconies overlooking the San Fernando Cathedral. I sat on that balcony all day long, reading and enjoying the view, even despite the day of rain! Love the separate bedroom! The afternoon happy hour could have easily sufficed for dinner had the allure of the Riverwalk restaurants not been there. The indoor pool/hot tub was nice, and the fitness center was perfectly equipped with great views while running the treadmill. The breakfast was hearty and very good quality...love that they have biscuits and gravy! Every employee we encountered was upbeat and kind and seemed to be interested in serving</td>\n",
       "    </tr>\n",
       "  </tbody>\n",
       "</table>\n",
       "</div>"
      ],
      "text/plain": [
       "                                hotel_name   hotel_city     date_of_stay  \\\n",
       "0  Drury Plaza Hotel San Antonio Riverwalk  San Antonio   September 2021   \n",
       "1  Drury Plaza Hotel San Antonio Riverwalk  San Antonio   September 2020   \n",
       "\n",
       "   review_rating  \\\n",
       "0              5   \n",
       "1              5   \n",
       "\n",
       "                                                                                                                                                                                                                                                                                                                                                                                                                                                                                                                                                                                                                                                                                                                                                                                                                  review  \n",
       "0                                                                                                                                                                                                                                                                                                                                                                                                                                                                                                                                                Joseph was so helpful and attentive! Awesome customer service. Made our trip more enjoyable! This will now be our go to hotel when we come to San Antonio. Everything about the hotel was nice and the staff was very friendly. Very pleased with the whole experience.  \n",
       "1  We stayed one night at the Drury Plaza Riverwalk in mid-September. Sooo enjoyed our stay. Definitely our favorite hotel on the Riverwalk. We specifically stayed here for the rooms with the balconies overlooking the San Fernando Cathedral. I sat on that balcony all day long, reading and enjoying the view, even despite the day of rain! Love the separate bedroom! The afternoon happy hour could have easily sufficed for dinner had the allure of the Riverwalk restaurants not been there. The indoor pool/hot tub was nice, and the fitness center was perfectly equipped with great views while running the treadmill. The breakfast was hearty and very good quality...love that they have biscuits and gravy! Every employee we encountered was upbeat and kind and seemed to be interested in serving  "
      ]
     },
     "execution_count": 3,
     "metadata": {},
     "output_type": "execute_result"
    }
   ],
   "source": [
    "df.head(2)"
   ]
  },
  {
   "cell_type": "code",
   "execution_count": 4,
   "id": "d50e0d63-ed8f-42c8-b676-29e1e78d5066",
   "metadata": {},
   "outputs": [
    {
     "name": "stdout",
     "output_type": "stream",
     "text": [
      "<class 'pandas.core.frame.DataFrame'>\n",
      "RangeIndex: 13801 entries, 0 to 13800\n",
      "Data columns (total 5 columns):\n",
      " #   Column         Non-Null Count  Dtype \n",
      "---  ------         --------------  ----- \n",
      " 0   hotel_name     13801 non-null  object\n",
      " 1   hotel_city     13801 non-null  object\n",
      " 2   date_of_stay   13801 non-null  object\n",
      " 3   review_rating  13801 non-null  int64 \n",
      " 4   review         13801 non-null  object\n",
      "dtypes: int64(1), object(4)\n",
      "memory usage: 539.2+ KB\n"
     ]
    }
   ],
   "source": [
    "df.info()"
   ]
  },
  {
   "cell_type": "code",
   "execution_count": 5,
   "id": "817c648a-562b-4580-b52f-b94d631c1942",
   "metadata": {},
   "outputs": [
    {
     "data": {
      "text/plain": [
       "hotel_name       0\n",
       "hotel_city       0\n",
       "date_of_stay     0\n",
       "review_rating    0\n",
       "review           0\n",
       "dtype: int64"
      ]
     },
     "execution_count": 5,
     "metadata": {},
     "output_type": "execute_result"
    }
   ],
   "source": [
    "df.isna().sum()"
   ]
  },
  {
   "cell_type": "code",
   "execution_count": 6,
   "id": "5f1b5ef7-587e-4d4a-8049-ab5696a73b34",
   "metadata": {},
   "outputs": [
    {
     "data": {
      "text/html": [
       "<div>\n",
       "<style scoped>\n",
       "    .dataframe tbody tr th:only-of-type {\n",
       "        vertical-align: middle;\n",
       "    }\n",
       "\n",
       "    .dataframe tbody tr th {\n",
       "        vertical-align: top;\n",
       "    }\n",
       "\n",
       "    .dataframe thead th {\n",
       "        text-align: right;\n",
       "    }\n",
       "</style>\n",
       "<table border=\"1\" class=\"dataframe\">\n",
       "  <thead>\n",
       "    <tr style=\"text-align: right;\">\n",
       "      <th></th>\n",
       "      <th>review_rating</th>\n",
       "    </tr>\n",
       "  </thead>\n",
       "  <tbody>\n",
       "    <tr>\n",
       "      <th>count</th>\n",
       "      <td>13801.000000</td>\n",
       "    </tr>\n",
       "    <tr>\n",
       "      <th>mean</th>\n",
       "      <td>3.622564</td>\n",
       "    </tr>\n",
       "    <tr>\n",
       "      <th>std</th>\n",
       "      <td>1.559053</td>\n",
       "    </tr>\n",
       "    <tr>\n",
       "      <th>min</th>\n",
       "      <td>1.000000</td>\n",
       "    </tr>\n",
       "    <tr>\n",
       "      <th>25%</th>\n",
       "      <td>2.000000</td>\n",
       "    </tr>\n",
       "    <tr>\n",
       "      <th>50%</th>\n",
       "      <td>4.000000</td>\n",
       "    </tr>\n",
       "    <tr>\n",
       "      <th>75%</th>\n",
       "      <td>5.000000</td>\n",
       "    </tr>\n",
       "    <tr>\n",
       "      <th>max</th>\n",
       "      <td>5.000000</td>\n",
       "    </tr>\n",
       "  </tbody>\n",
       "</table>\n",
       "</div>"
      ],
      "text/plain": [
       "       review_rating\n",
       "count   13801.000000\n",
       "mean        3.622564\n",
       "std         1.559053\n",
       "min         1.000000\n",
       "25%         2.000000\n",
       "50%         4.000000\n",
       "75%         5.000000\n",
       "max         5.000000"
      ]
     },
     "execution_count": 6,
     "metadata": {},
     "output_type": "execute_result"
    }
   ],
   "source": [
    "df.describe()"
   ]
  },
  {
   "cell_type": "code",
   "execution_count": 7,
   "id": "05517f01-0f33-4947-9ae2-e0d76a6d010e",
   "metadata": {},
   "outputs": [
    {
     "name": "stdout",
     "output_type": "stream",
     "text": [
      "Fairmont Austin                                   70\n",
      "La Cantera Resort & Spa                           70\n",
      "Hampton Inn Austin-North at I-35 and Hwy 183      35\n",
      "Hampton Inn & Suites Dallas Market Center         35\n",
      "Extended Stay America - Austin - North Central    35\n",
      "                                                  ..\n",
      "Best Value Inn of San Antonio/Kirby                1\n",
      "Home 2 Suites                                      1\n",
      "Studio 6 Austin, TX-Airport                        1\n",
      "Palace Inn Beltway & Westview                      1\n",
      "Kasa Dallas West End Apartments                    1\n",
      "Name: hotel_name, Length: 548, dtype: int64\n",
      "---------------------------\n",
      "Austin         4033\n",
      "San Antonio    3633\n",
      "Houston        3574\n",
      "Dallas         2561\n",
      "Name: hotel_city, dtype: int64\n",
      "---------------------------\n",
      " August 2021      1356\n",
      " July 2021        1215\n",
      " February 2020     696\n",
      " June 2021         696\n",
      " May 2021          695\n",
      "                  ... \n",
      " December 2011       1\n",
      " August 2012         1\n",
      " February 2013       1\n",
      " October 2010        1\n",
      " May 2010            1\n",
      "Name: date_of_stay, Length: 120, dtype: int64\n",
      "---------------------------\n",
      "5    6344\n",
      "1    2518\n",
      "4    2192\n",
      "3    1495\n",
      "2    1252\n",
      "Name: review_rating, dtype: int64\n",
      "---------------------------\n",
      "We upgraded our room to the adult only floor which came with some nice amenities. We reserved a cabana at the adult pool and we received excellent service from our wait staff. We used the concierge who created a wine tasting itinerary which was amazing. We ate at two of the restaurants, we had good food and great service. All the hotel staff were very friendly and helpful. I highly recommend this resort.                                                                                                                                                                                                                                                                                                                                                                                               2\n",
      "Our group of 15 children, babies and adults visited La Cantera August 1-3, 2021. We had multiple rooms and suites in the Villas. On my last night there I got 60-80 bedbug bites and have some very disgusting photos for proof. I have never had a reaction to any kind of bug bites before. It took 17 days before I could stop using medication. My email and phone calls to La Cantera were never returned. I called wanting to make sure the Villas got a throrough cleaning before anyone else stayed there but I will never know.                                                                                                                                                                                                                                                                              2\n",
      "We had exceptional service from Alif at the pool. I was having a hard time deciding on a drink and He recommended this amazing gin that I had never heard of. If you find yourself at Fairmont Austin pool ask for Alif to be your server.                                                                                                                                                                                                                                                                                                                                                                                                                                                                                                                                                                            2\n",
      "The Fairmont always provides great customer service, wonderful food options, and an extremely comfortable room. The amenities are top-notch! And the spa and pool area are absolutely wonderful. I'll stay again!                                                                                                                                                                                                                                                                                                                                                                                                                                                                                                                                                                                                     2\n",
      "This was our second stay at La Cantera. Service, food and accommodations are all great. The first time we stayed on Seven, the adults only floor, and this time we were on the 6th floor. I would probably go back to Seven next time. The spa is the best. So peaceful and has a steam room, sauna and indoor plunge pool along with a very nice locker room area. The treatments are superb. The multiple pools are all beautiful, clean and spacious. Very nice area/location.                                                                                                                                                                                                                                                                                                                                     2\n",
      "                                                                                                                                                                                                                                                                                                                                                                                                                                                                                                                                                                                                                                                                                                                                                                                                                     ..\n",
      "This hotel is clean and friendly, but has two major issues. It’s by a deafeningly loud night club. On Saturday night, the music blasted until 3 AM. The street was full of roaming, rowdy, raucous, raunchy revelers from the club. The club was quiet on Sunday night. I won’t rate this hotel less because of this because it’s out of their control. Other reviewers mention that the front desk will give out earplugs upon request, but I was unaware of this, and would have been uninterested in this even if I had known. The only onsite parking option is $27 a night valet parking. Self-parking is not offered onsite. This is unreasonable and unexpected. It’s very uncharacteristic of the Fairfield Inn chain, or any hotel for that matter. This needs to be obviously stated in the information…    1\n",
      "I strongly urge everyone planning to stay at this hotel to stay away from it. Our bedroom was dirty and the bed sheets smelled like human sweat. It was a obvious that they had not changed the bed sheets prior to our stay.                                                                                                                                                                                                                                                                                                                                                                                                                                                                                                                                                                                         1\n",
      "The hotel in general is average. A good point is that has a good location. What I complain is that in our check-in we were not told that you should ask for room cleaning (because of covid) otherwise they do not clean your room. So it was not nice to arrive late night and see that our room was not clean. It is very important to give you this information. The breakfast was ok.                                                                                                                                                                                                                                                                                                                                                                                                                             1\n",
      "Hyatt, I'm embarrassed for you. Bath didn't drain so I stood in bathwater while I showered. The a/c was freezing which is usually good, but I couldn't warm up the room all night. The upstairs guests were pounding on the floor until 2am. Food was sub-par and greasy. The tables were not wiped off well. The a/c in the breakfast dining area was leaking onto the floor right by my table. They had very courteous servers but were extremely understaffed, so I waited for a long time to eat. The front desk was not super welcoming or accommodating. Pretty disappointed.                                                                                                                                                                                                                                   1\n",
      "Horrible experience with a burglary of several vehicles including ours. They had a security guard outside and they still managed to break in to our vehicle. They allow anyone to just walk in and eat breakfast so you had all sorts of people eating and holding up the lines.                                                                                                                                                                                                                                                                                                                                                                                                                                                                                                                                      1\n",
      "Name: review, Length: 13732, dtype: int64\n",
      "---------------------------\n"
     ]
    }
   ],
   "source": [
    "for i in df.columns:\n",
    "    print(df[i].value_counts())\n",
    "    print('---------------------------')"
   ]
  },
  {
   "cell_type": "markdown",
   "id": "62c38260-0c19-4dd3-ae90-38a96ac6fa69",
   "metadata": {},
   "source": [
    "#### Acquire Findings "
   ]
  },
  {
   "cell_type": "markdown",
   "id": "e22eb883-864f-4067-b6e0-23a04f51dd94",
   "metadata": {},
   "source": [
    "#### TO-Do's:\n",
    "1). The cap for reviews was 35, each review being unique, since value counts of 70 and 2 were seen, duplicates exist in the data. duplicates need to be removed.\n",
    "\n",
    "2). Month and year can be in their own seperate columns.\n",
    "\n",
    "3.) no null values or missing values. \n",
    "\n",
    "4.) Standardize english words using NLP processing, Standard cleaning using NLTK."
   ]
  },
  {
   "cell_type": "markdown",
   "id": "6fdb25f7-c6df-4733-941d-7460ce6d79b0",
   "metadata": {},
   "source": [
    "----"
   ]
  },
  {
   "cell_type": "markdown",
   "id": "060b2b49-c800-4eee-8d7a-f1e61a7b3b4b",
   "metadata": {},
   "source": [
    "## Prepare\n",
    "- In Preperation, we will\n",
    "     * Drop Duplicates\n",
    "     * Split month and year into seperate columns \n",
    "     * Drop date of stay column\n",
    "     * Prep review content (Basic cleaning, tokenizing, lemmentizing, removing stop words, excluding common negative stop words. As they add to negative sentiment)\n",
    "     * Makeing columns for word and letter count\n",
    "     * creating columns for negative , postive and neautral sentiment"
   ]
  },
  {
   "cell_type": "code",
   "execution_count": 8,
   "id": "70bbae7e-3065-41a2-830f-b9922231f854",
   "metadata": {},
   "outputs": [],
   "source": [
    "df = prepare.prep_review_data(df)"
   ]
  },
  {
   "cell_type": "code",
   "execution_count": 9,
   "id": "5ea5d6f1-4471-46bc-8117-ca259464f72f",
   "metadata": {},
   "outputs": [
    {
     "data": {
      "text/plain": [
       "13732"
      ]
     },
     "execution_count": 9,
     "metadata": {},
     "output_type": "execute_result"
    }
   ],
   "source": [
    "len(df)"
   ]
  },
  {
   "cell_type": "markdown",
   "id": "2f7703e8-3714-4119-887d-ce68163a1bd0",
   "metadata": {},
   "source": [
    "----"
   ]
  },
  {
   "cell_type": "markdown",
   "id": "c0cea927-faf0-4930-add6-7ae4c256db1e",
   "metadata": {},
   "source": [
    "## Outliers \n",
    "- Here , we'll take a look at possible anomolies\n",
    "     * looking at positive sentiment reviews with low ratings\n",
    "     * looking at negative sentiment reviews with high ratings"
   ]
  },
  {
   "cell_type": "code",
   "execution_count": 10,
   "id": "897d5216-a434-4878-b55e-d4fabbe27946",
   "metadata": {},
   "outputs": [],
   "source": [
    "postive_when_neg  = (df.positive_sentiment  >= .500) & (df.review_rating < 3)\n",
    "negative_when_pos = (df.negative_sentiment  >= .500) & (df.review_rating > 3)"
   ]
  },
  {
   "cell_type": "code",
   "execution_count": 11,
   "id": "31e96594-62e5-4347-8ed8-8c7e86d1053c",
   "metadata": {},
   "outputs": [
    {
     "data": {
      "text/html": [
       "<div>\n",
       "<style scoped>\n",
       "    .dataframe tbody tr th:only-of-type {\n",
       "        vertical-align: middle;\n",
       "    }\n",
       "\n",
       "    .dataframe tbody tr th {\n",
       "        vertical-align: top;\n",
       "    }\n",
       "\n",
       "    .dataframe thead th {\n",
       "        text-align: right;\n",
       "    }\n",
       "</style>\n",
       "<table border=\"1\" class=\"dataframe\">\n",
       "  <thead>\n",
       "    <tr style=\"text-align: right;\">\n",
       "      <th></th>\n",
       "      <th>hotel_name</th>\n",
       "      <th>hotel_city</th>\n",
       "      <th>review_rating</th>\n",
       "      <th>review</th>\n",
       "      <th>month_of_stay</th>\n",
       "      <th>year_of_stay</th>\n",
       "      <th>review_cleaned</th>\n",
       "      <th>message_length</th>\n",
       "      <th>word_count</th>\n",
       "      <th>positive_sentiment</th>\n",
       "      <th>negative_sentiment</th>\n",
       "      <th>neatral_sentiment</th>\n",
       "    </tr>\n",
       "  </thead>\n",
       "  <tbody>\n",
       "    <tr>\n",
       "      <th>6163</th>\n",
       "      <td>The Sam Houston, Curio Collection by Hilton</td>\n",
       "      <td>Houston</td>\n",
       "      <td>1</td>\n",
       "      <td>We have stayed here many times and love to come back. We decided to stay for loyalty, points and the great breakfast that comes with Diamond status. When we arrived, we were informed that they no longer give Diamond Status privileges! Do yourself a favor and stay at the Lancaster! It is super!</td>\n",
       "      <td>November</td>\n",
       "      <td>2020</td>\n",
       "      <td>stayed many time love come back. decided stay loyalty , point great breakfast come diamond status. arrived , informed no longer give diamond status privilege ! favor stay lancaster ! super !</td>\n",
       "      <td>190</td>\n",
       "      <td>32</td>\n",
       "      <td>0.568</td>\n",
       "      <td>0.047</td>\n",
       "      <td>0.385</td>\n",
       "    </tr>\n",
       "    <tr>\n",
       "      <th>12130</th>\n",
       "      <td>Best Western Plus Northwest Inn &amp; Suites</td>\n",
       "      <td>Houston</td>\n",
       "      <td>1</td>\n",
       "      <td>The place smelled. The ac struggled to cool. The lobby needed better air flow. The pool is still not open. The Togo breakfast is a joke. The workers are the best assets this location has going for it.</td>\n",
       "      <td>June</td>\n",
       "      <td>2021</td>\n",
       "      <td>place smelled. ac struggled cool. lobby needed better air flow. pool still not open. togo breakfast joke. worker best asset location ha going .</td>\n",
       "      <td>143</td>\n",
       "      <td>24</td>\n",
       "      <td>0.503</td>\n",
       "      <td>0.069</td>\n",
       "      <td>0.429</td>\n",
       "    </tr>\n",
       "  </tbody>\n",
       "</table>\n",
       "</div>"
      ],
      "text/plain": [
       "                                        hotel_name hotel_city  review_rating  \\\n",
       "6163   The Sam Houston, Curio Collection by Hilton    Houston              1   \n",
       "12130     Best Western Plus Northwest Inn & Suites    Houston              1   \n",
       "\n",
       "                                                                                                                                                                                                                                                                                                       review  \\\n",
       "6163   We have stayed here many times and love to come back. We decided to stay for loyalty, points and the great breakfast that comes with Diamond status. When we arrived, we were informed that they no longer give Diamond Status privileges! Do yourself a favor and stay at the Lancaster! It is super!   \n",
       "12130                                                                                                The place smelled. The ac struggled to cool. The lobby needed better air flow. The pool is still not open. The Togo breakfast is a joke. The workers are the best assets this location has going for it.   \n",
       "\n",
       "      month_of_stay year_of_stay  \\\n",
       "6163       November         2020   \n",
       "12130          June         2021   \n",
       "\n",
       "                                                                                                                                                                                       review_cleaned  \\\n",
       "6163   stayed many time love come back. decided stay loyalty , point great breakfast come diamond status. arrived , informed no longer give diamond status privilege ! favor stay lancaster ! super !   \n",
       "12130                                                 place smelled. ac struggled cool. lobby needed better air flow. pool still not open. togo breakfast joke. worker best asset location ha going .   \n",
       "\n",
       "       message_length  word_count  positive_sentiment  negative_sentiment  \\\n",
       "6163              190          32               0.568               0.047   \n",
       "12130             143          24               0.503               0.069   \n",
       "\n",
       "       neatral_sentiment  \n",
       "6163               0.385  \n",
       "12130              0.429  "
      ]
     },
     "execution_count": 11,
     "metadata": {},
     "output_type": "execute_result"
    }
   ],
   "source": [
    "df[postive_when_neg].sample(2)"
   ]
  },
  {
   "cell_type": "code",
   "execution_count": 12,
   "id": "8dccbc51-efe9-4150-a9a7-10a3519cbebc",
   "metadata": {},
   "outputs": [
    {
     "data": {
      "text/html": [
       "<div>\n",
       "<style scoped>\n",
       "    .dataframe tbody tr th:only-of-type {\n",
       "        vertical-align: middle;\n",
       "    }\n",
       "\n",
       "    .dataframe tbody tr th {\n",
       "        vertical-align: top;\n",
       "    }\n",
       "\n",
       "    .dataframe thead th {\n",
       "        text-align: right;\n",
       "    }\n",
       "</style>\n",
       "<table border=\"1\" class=\"dataframe\">\n",
       "  <thead>\n",
       "    <tr style=\"text-align: right;\">\n",
       "      <th></th>\n",
       "      <th>hotel_name</th>\n",
       "      <th>hotel_city</th>\n",
       "      <th>review_rating</th>\n",
       "      <th>review</th>\n",
       "      <th>month_of_stay</th>\n",
       "      <th>year_of_stay</th>\n",
       "      <th>review_cleaned</th>\n",
       "      <th>message_length</th>\n",
       "      <th>word_count</th>\n",
       "      <th>positive_sentiment</th>\n",
       "      <th>negative_sentiment</th>\n",
       "      <th>neatral_sentiment</th>\n",
       "    </tr>\n",
       "  </thead>\n",
       "  <tbody>\n",
       "    <tr>\n",
       "      <th>13793</th>\n",
       "      <td>Econo Lodge Inn &amp; Suites</td>\n",
       "      <td>Dallas</td>\n",
       "      <td>5</td>\n",
       "      <td>Service of staff was a little bad and rude, In the lobby the didn't have the uniform. And the location is not good, is very dangerous.</td>\n",
       "      <td>March</td>\n",
       "      <td>2014</td>\n",
       "      <td>service staff little bad rude , lobby ' uniform. location not good , dangerous .</td>\n",
       "      <td>80</td>\n",
       "      <td>15</td>\n",
       "      <td>0.141</td>\n",
       "      <td>0.526</td>\n",
       "      <td>0.332</td>\n",
       "    </tr>\n",
       "  </tbody>\n",
       "</table>\n",
       "</div>"
      ],
      "text/plain": [
       "                     hotel_name hotel_city  review_rating  \\\n",
       "13793  Econo Lodge Inn & Suites     Dallas              5   \n",
       "\n",
       "                                                                                                                                       review  \\\n",
       "13793  Service of staff was a little bad and rude, In the lobby the didn't have the uniform. And the location is not good, is very dangerous.   \n",
       "\n",
       "      month_of_stay year_of_stay  \\\n",
       "13793         March         2014   \n",
       "\n",
       "                                                                         review_cleaned  \\\n",
       "13793  service staff little bad rude , lobby ' uniform. location not good , dangerous .   \n",
       "\n",
       "       message_length  word_count  positive_sentiment  negative_sentiment  \\\n",
       "13793              80          15               0.141               0.526   \n",
       "\n",
       "       neatral_sentiment  \n",
       "13793              0.332  "
      ]
     },
     "execution_count": 12,
     "metadata": {},
     "output_type": "execute_result"
    }
   ],
   "source": [
    "df[negative_when_pos].head()"
   ]
  },
  {
   "cell_type": "markdown",
   "id": "91a289cd-384f-4b63-90fc-5c75fc68f489",
   "metadata": {},
   "source": [
    "#### Most of these may be miss clicked, as these people may wanted to rate higher or lower then their sentiment may suggest. so we will remove these from the dataframe as outliers so our model isnt trained in a way that might skew the results."
   ]
  },
  {
   "cell_type": "code",
   "execution_count": 13,
   "id": "816e98d5-4da2-41a2-b0c5-be6659c90ea1",
   "metadata": {},
   "outputs": [],
   "source": [
    "df = prepare.remove_outliers(df)"
   ]
  },
  {
   "cell_type": "code",
   "execution_count": 14,
   "id": "56cb5591-8c5c-4f23-93c4-bb6ea4e0ce96",
   "metadata": {},
   "outputs": [
    {
     "data": {
      "text/plain": [
       "13721"
      ]
     },
     "execution_count": 14,
     "metadata": {},
     "output_type": "execute_result"
    }
   ],
   "source": [
    "len(df)"
   ]
  },
  {
   "cell_type": "markdown",
   "id": "f14c96b3-a6e6-49ff-9d73-a3d1d37ebfbc",
   "metadata": {},
   "source": [
    "### Split Model "
   ]
  },
  {
   "cell_type": "code",
   "execution_count": 19,
   "id": "bca11863-8ea2-4991-bf65-b1a48bda1f6c",
   "metadata": {},
   "outputs": [
    {
     "name": "stdout",
     "output_type": "stream",
     "text": [
      "(7683, 12),(3293, 12),(2745, 12)\n"
     ]
    }
   ],
   "source": [
    "train, validate, test = prepare.split_for_model(df,'review_rating')"
   ]
  },
  {
   "cell_type": "markdown",
   "id": "7df2a6c2-06d5-4c36-8982-a70741085a6d",
   "metadata": {},
   "source": [
    "## Explore"
   ]
  },
  {
   "cell_type": "code",
   "execution_count": null,
   "id": "da8345fd-c9a3-47df-8b79-cc67387ac049",
   "metadata": {},
   "outputs": [],
   "source": []
  }
 ],
 "metadata": {
  "kernelspec": {
   "display_name": "Python 3",
   "language": "python",
   "name": "python3"
  },
  "language_info": {
   "codemirror_mode": {
    "name": "ipython",
    "version": 3
   },
   "file_extension": ".py",
   "mimetype": "text/x-python",
   "name": "python",
   "nbconvert_exporter": "python",
   "pygments_lexer": "ipython3",
   "version": "3.8.10"
  }
 },
 "nbformat": 4,
 "nbformat_minor": 5
}
