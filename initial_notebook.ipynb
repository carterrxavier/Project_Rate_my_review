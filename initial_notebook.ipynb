{
 "cells": [
  {
   "cell_type": "code",
   "execution_count": 1,
   "id": "49d97bdc-b2bc-4b40-87a3-3eb7114d1aff",
   "metadata": {},
   "outputs": [],
   "source": [
    "import pandas as pd \n",
    "import numpy as np\n",
    "import prepare\n",
    "#to see the whole review, display max column width\n",
    "pd.set_option('display.max_colwidth', None)"
   ]
  },
  {
   "cell_type": "markdown",
   "id": "91bc892a-628d-4366-ac52-9205a6e39c74",
   "metadata": {},
   "source": [
    "# Rate My Review\n",
    "## An Analysis on Hotel reviews in Texas\n",
    "#### Xavier Carter, September 2021"
   ]
  },
  {
   "cell_type": "markdown",
   "id": "9771eddd-ad29-4ae6-8b60-373b45e71684",
   "metadata": {},
   "source": [
    "----"
   ]
  },
  {
   "cell_type": "markdown",
   "id": "6ca95438-3d45-4f03-a9eb-8a88ca4daa4e",
   "metadata": {},
   "source": [
    "#### The Dataset\n",
    "- Using Selinium, 13,800 reviews were gathered from various hotels across 4 major cities in Texas (Houston, Austin, Dallas, San Antonio)\n",
    "\n",
    "#### Project Goals\n",
    "- Analyze reviews to understand correlation to the review rating and the review. \n",
    "- Build a machine learning model to predict what rating a review should get.\n",
    "\n",
    "#### Executive Summary\n",
    "- Executive Summary here"
   ]
  },
  {
   "cell_type": "markdown",
   "id": "b2aa840b-9795-4124-9e79-77aea29c8cec",
   "metadata": {},
   "source": [
    "----"
   ]
  },
  {
   "cell_type": "markdown",
   "id": "e561ba33-725c-4bce-a29a-2f22f0198835",
   "metadata": {},
   "source": [
    "## Acquire\n",
    "- Utilizing Selinium (see acquire1.py and acquire2.py) , Gathering review information from TripAdvisor.com\n",
    "- For sake of time, the max number of reviews looked at for each hotel was maxed to 35, as some hotels had hundreds of reviews"
   ]
  },
  {
   "cell_type": "code",
   "execution_count": 2,
   "id": "d66e705f-ab11-4ad3-82cc-576318b25e3f",
   "metadata": {},
   "outputs": [],
   "source": [
    "df = pd.read_csv('hotel_data.csv')"
   ]
  },
  {
   "cell_type": "code",
   "execution_count": 3,
   "id": "af57c0d9-3796-4e60-b4a9-3af51c60796a",
   "metadata": {},
   "outputs": [
    {
     "data": {
      "text/html": [
       "<div>\n",
       "<style scoped>\n",
       "    .dataframe tbody tr th:only-of-type {\n",
       "        vertical-align: middle;\n",
       "    }\n",
       "\n",
       "    .dataframe tbody tr th {\n",
       "        vertical-align: top;\n",
       "    }\n",
       "\n",
       "    .dataframe thead th {\n",
       "        text-align: right;\n",
       "    }\n",
       "</style>\n",
       "<table border=\"1\" class=\"dataframe\">\n",
       "  <thead>\n",
       "    <tr style=\"text-align: right;\">\n",
       "      <th></th>\n",
       "      <th>hotel_name</th>\n",
       "      <th>hotel_city</th>\n",
       "      <th>date_of_stay</th>\n",
       "      <th>review_rating</th>\n",
       "      <th>review</th>\n",
       "    </tr>\n",
       "  </thead>\n",
       "  <tbody>\n",
       "    <tr>\n",
       "      <th>0</th>\n",
       "      <td>Drury Plaza Hotel San Antonio Riverwalk</td>\n",
       "      <td>San Antonio</td>\n",
       "      <td>September 2021</td>\n",
       "      <td>5</td>\n",
       "      <td>Joseph was so helpful and attentive! Awesome customer service. Made our trip more enjoyable! This will now be our go to hotel when we come to San Antonio. Everything about the hotel was nice and the staff was very friendly. Very pleased with the whole experience.</td>\n",
       "    </tr>\n",
       "    <tr>\n",
       "      <th>1</th>\n",
       "      <td>Drury Plaza Hotel San Antonio Riverwalk</td>\n",
       "      <td>San Antonio</td>\n",
       "      <td>September 2020</td>\n",
       "      <td>5</td>\n",
       "      <td>We stayed one night at the Drury Plaza Riverwalk in mid-September. Sooo enjoyed our stay. Definitely our favorite hotel on the Riverwalk. We specifically stayed here for the rooms with the balconies overlooking the San Fernando Cathedral. I sat on that balcony all day long, reading and enjoying the view, even despite the day of rain! Love the separate bedroom! The afternoon happy hour could have easily sufficed for dinner had the allure of the Riverwalk restaurants not been there. The indoor pool/hot tub was nice, and the fitness center was perfectly equipped with great views while running the treadmill. The breakfast was hearty and very good quality...love that they have biscuits and gravy! Every employee we encountered was upbeat and kind and seemed to be interested in serving</td>\n",
       "    </tr>\n",
       "  </tbody>\n",
       "</table>\n",
       "</div>"
      ],
      "text/plain": [
       "                                hotel_name   hotel_city     date_of_stay  \\\n",
       "0  Drury Plaza Hotel San Antonio Riverwalk  San Antonio   September 2021   \n",
       "1  Drury Plaza Hotel San Antonio Riverwalk  San Antonio   September 2020   \n",
       "\n",
       "   review_rating  \\\n",
       "0              5   \n",
       "1              5   \n",
       "\n",
       "                                                                                                                                                                                                                                                                                                                                                                                                                                                                                                                                                                                                                                                                                                                                                                                                                  review  \n",
       "0                                                                                                                                                                                                                                                                                                                                                                                                                                                                                                                                                Joseph was so helpful and attentive! Awesome customer service. Made our trip more enjoyable! This will now be our go to hotel when we come to San Antonio. Everything about the hotel was nice and the staff was very friendly. Very pleased with the whole experience.  \n",
       "1  We stayed one night at the Drury Plaza Riverwalk in mid-September. Sooo enjoyed our stay. Definitely our favorite hotel on the Riverwalk. We specifically stayed here for the rooms with the balconies overlooking the San Fernando Cathedral. I sat on that balcony all day long, reading and enjoying the view, even despite the day of rain! Love the separate bedroom! The afternoon happy hour could have easily sufficed for dinner had the allure of the Riverwalk restaurants not been there. The indoor pool/hot tub was nice, and the fitness center was perfectly equipped with great views while running the treadmill. The breakfast was hearty and very good quality...love that they have biscuits and gravy! Every employee we encountered was upbeat and kind and seemed to be interested in serving  "
      ]
     },
     "execution_count": 3,
     "metadata": {},
     "output_type": "execute_result"
    }
   ],
   "source": [
    "df.head(2)"
   ]
  },
  {
   "cell_type": "code",
   "execution_count": 4,
   "id": "d50e0d63-ed8f-42c8-b676-29e1e78d5066",
   "metadata": {},
   "outputs": [
    {
     "name": "stdout",
     "output_type": "stream",
     "text": [
      "<class 'pandas.core.frame.DataFrame'>\n",
      "RangeIndex: 13801 entries, 0 to 13800\n",
      "Data columns (total 5 columns):\n",
      " #   Column         Non-Null Count  Dtype \n",
      "---  ------         --------------  ----- \n",
      " 0   hotel_name     13801 non-null  object\n",
      " 1   hotel_city     13801 non-null  object\n",
      " 2   date_of_stay   13801 non-null  object\n",
      " 3   review_rating  13801 non-null  int64 \n",
      " 4   review         13801 non-null  object\n",
      "dtypes: int64(1), object(4)\n",
      "memory usage: 539.2+ KB\n"
     ]
    }
   ],
   "source": [
    "df.info()"
   ]
  },
  {
   "cell_type": "code",
   "execution_count": 5,
   "id": "817c648a-562b-4580-b52f-b94d631c1942",
   "metadata": {},
   "outputs": [
    {
     "data": {
      "text/plain": [
       "hotel_name       0\n",
       "hotel_city       0\n",
       "date_of_stay     0\n",
       "review_rating    0\n",
       "review           0\n",
       "dtype: int64"
      ]
     },
     "execution_count": 5,
     "metadata": {},
     "output_type": "execute_result"
    }
   ],
   "source": [
    "df.isna().sum()"
   ]
  },
  {
   "cell_type": "code",
   "execution_count": 6,
   "id": "5f1b5ef7-587e-4d4a-8049-ab5696a73b34",
   "metadata": {},
   "outputs": [
    {
     "data": {
      "text/html": [
       "<div>\n",
       "<style scoped>\n",
       "    .dataframe tbody tr th:only-of-type {\n",
       "        vertical-align: middle;\n",
       "    }\n",
       "\n",
       "    .dataframe tbody tr th {\n",
       "        vertical-align: top;\n",
       "    }\n",
       "\n",
       "    .dataframe thead th {\n",
       "        text-align: right;\n",
       "    }\n",
       "</style>\n",
       "<table border=\"1\" class=\"dataframe\">\n",
       "  <thead>\n",
       "    <tr style=\"text-align: right;\">\n",
       "      <th></th>\n",
       "      <th>review_rating</th>\n",
       "    </tr>\n",
       "  </thead>\n",
       "  <tbody>\n",
       "    <tr>\n",
       "      <th>count</th>\n",
       "      <td>13801.000000</td>\n",
       "    </tr>\n",
       "    <tr>\n",
       "      <th>mean</th>\n",
       "      <td>3.622564</td>\n",
       "    </tr>\n",
       "    <tr>\n",
       "      <th>std</th>\n",
       "      <td>1.559053</td>\n",
       "    </tr>\n",
       "    <tr>\n",
       "      <th>min</th>\n",
       "      <td>1.000000</td>\n",
       "    </tr>\n",
       "    <tr>\n",
       "      <th>25%</th>\n",
       "      <td>2.000000</td>\n",
       "    </tr>\n",
       "    <tr>\n",
       "      <th>50%</th>\n",
       "      <td>4.000000</td>\n",
       "    </tr>\n",
       "    <tr>\n",
       "      <th>75%</th>\n",
       "      <td>5.000000</td>\n",
       "    </tr>\n",
       "    <tr>\n",
       "      <th>max</th>\n",
       "      <td>5.000000</td>\n",
       "    </tr>\n",
       "  </tbody>\n",
       "</table>\n",
       "</div>"
      ],
      "text/plain": [
       "       review_rating\n",
       "count   13801.000000\n",
       "mean        3.622564\n",
       "std         1.559053\n",
       "min         1.000000\n",
       "25%         2.000000\n",
       "50%         4.000000\n",
       "75%         5.000000\n",
       "max         5.000000"
      ]
     },
     "execution_count": 6,
     "metadata": {},
     "output_type": "execute_result"
    }
   ],
   "source": [
    "df.describe()"
   ]
  },
  {
   "cell_type": "code",
   "execution_count": 7,
   "id": "05517f01-0f33-4947-9ae2-e0d76a6d010e",
   "metadata": {},
   "outputs": [
    {
     "name": "stdout",
     "output_type": "stream",
     "text": [
      "Fairmont Austin                                             70\n",
      "La Cantera Resort & Spa                                     70\n",
      "Homewood Suites by Hilton Dallas-Park Central Area          35\n",
      "Hyatt House Austin / Downtown                               35\n",
      "La Quinta Inn & Suites by Wyndham Austin Near the Domain    35\n",
      "                                                            ..\n",
      "Americas Best Value Inn & Suites Northeast Houston I-610     1\n",
      "Studio 6 Houston, TX- Intercontinental Airport South         1\n",
      "Garden Inn & Suites                                          1\n",
      "Ramada Limited Addison                                       1\n",
      "Scottish Inn & Suites                                        1\n",
      "Name: hotel_name, Length: 548, dtype: int64\n",
      "---------------------------\n",
      "Austin         4033\n",
      "San Antonio    3633\n",
      "Houston        3574\n",
      "Dallas         2561\n",
      "Name: hotel_city, dtype: int64\n",
      "---------------------------\n",
      " August 2021      1356\n",
      " July 2021        1215\n",
      " June 2021         696\n",
      " February 2020     696\n",
      " May 2021          695\n",
      "                  ... \n",
      " November 2011       1\n",
      " May 2014            1\n",
      " February 2013       1\n",
      " October 2008        1\n",
      " November 2013       1\n",
      "Name: date_of_stay, Length: 120, dtype: int64\n",
      "---------------------------\n",
      "5    6344\n",
      "1    2518\n",
      "4    2192\n",
      "3    1495\n",
      "2    1252\n",
      "Name: review_rating, dtype: int64\n",
      "---------------------------\n",
      "Daniela was our server at the pool and WOW she was amazing! So attentive and kind, we really had a great time. We also had the mahi mahi tacos which were super yummy. Would highly recommend! Such a great part of our honeymoon                                                                                                                                                                                                                                                                                                                                                                                                                     2\n",
      "Our stay at the Fairmont was nothing short of amazing. The ambience, decor, food, pool, the rooms were excellent. It was truly a luxury hotel. The marble floors and greenery were lovely and the location was perfect.                                                                                                                                                                                                                                                                                                                                                                                                                               2\n",
      "Lovely hotel, in a great location and beautiful amenities. A great place to stay for a bit of pampering in Austin. I'd love to be back and stay for longer. Staff interactions overall were great and they made for an all round stay that I thoroughly enjoyed.                                                                                                                                                                                                                                                                                                                                                                                      2\n",
      "This hotel couldn't have been better. Absolutely every member of the staff was very friendly and helpful. I must give special recognition to the staff of the Fulton Bar and Garrison Restaurant; particularly Kaitlyn Erickson, Monet Cantu, Winday RS and most especially Jasline Quiroga. They took amazing care of me when I was at a very low point.                                                                                                                                                                                                                                                                                             2\n",
      "This is an elegant beautiful Resort with lush gardens,nice views of the hill country.Pools have their own bars and lots of seating areas surrounding the pools.Beautiful lobby and courtyards.Very relaxing.Enjoyed Golf and Tennis and the restaurants inside the resort are great and convenient you don't need to leave the resort.                                                                                                                                                                                                                                                                                                                2\n",
      "                                                                                                                                                                                                                                                                                                                                                                                                                                                                                                                                                                                                                                                     ..\n",
      "Wonderful Hampton experience for a girl's weekend. All staff we encountered were helpful, pleasant & professional. Hotel was very clean--guest room, breakfast area, gym, lobby bathrooms. That was impressive. Location is a little further from downtown, but it was a convenient location for what we needed. Look forward to returning the next time I travel to Austin & to enjoy some time relaxing in the outdoor pool.                                                                                                                                                                                                                        1\n",
      "Since any travel brings occasional mishap, I prefer to judge a hotel on how it handles issues rather than assume there will never be any. At a recent four day stay here we had an unfortunate encounter the first night that was resolved quickly and professionally with genuine concern. This is a beautiful location and we received great service from the front desk, the valet parking, the shuttle, and especially James in the Library - his attention to detail after only meeting very briefly the first night was exceptional. We shall return.                                                                                           1\n",
      "Someone was cooking food that smelled terrible throughout hotel. It was worst on the floor I was staying in and could be smelled in my room and even in the lobby. Long term guest was culprit so there was no fix to this                                                                                                                                                                                                                                                                                                                                                                                                                            1\n",
      "This hotel is a gem. It’s so unique but right in the heart of so many great Austin spots. It’s walking distance to lady bird lake trail. Great food nearby, Walton Fancy and Staple is across the street. Also the food the hotel makes is delicious ! The avocado, arugula flat bread was spectacular. The pool is absolutely lovely, the gym has 2 cycling bikes, a ton of weights and box jumps. Owen is wonderful and so accommodating, he makes you feel truly special and takes over to top care of the guest. Kara is also very quick in answering questions, and making the stay more enjoyable. Overall 11 out 10 and I highly recommend.    1\n",
      "My hubby and I stayed over the weekend about a month ago and felt right at home! Val, David, and Terry made my stay amazing! Val and Terry both need promotions!! I swear those two ladies never stopped helping guests and honestly I thought they were upper management my whole stay until neither name was on the business card! Your hotel is not unclean, just outdated and old. Please renovate soon!                                                                                                                                                                                                                                          1\n",
      "Name: review, Length: 13732, dtype: int64\n",
      "---------------------------\n"
     ]
    }
   ],
   "source": [
    "for i in df.columns:\n",
    "    print(df[i].value_counts())\n",
    "    print('---------------------------')"
   ]
  },
  {
   "cell_type": "markdown",
   "id": "62c38260-0c19-4dd3-ae90-38a96ac6fa69",
   "metadata": {},
   "source": [
    "#### Acquire Findings "
   ]
  },
  {
   "cell_type": "markdown",
   "id": "e22eb883-864f-4067-b6e0-23a04f51dd94",
   "metadata": {},
   "source": [
    "#### TO-Do's:\n",
    "1). The cap for reviews was 35, each review being unique, since value counts of 70 and 2 were seen, duplicates exist in the data. duplicates need to be removed.\n",
    "\n",
    "2). Month and year can be in their own seperate columns.\n",
    "\n",
    "3.) no null values or missing values. \n",
    "\n",
    "4.) Standardize english words using NLP processing, Standard cleaning using NLTK."
   ]
  },
  {
   "cell_type": "markdown",
   "id": "6fdb25f7-c6df-4733-941d-7460ce6d79b0",
   "metadata": {},
   "source": [
    "----"
   ]
  },
  {
   "cell_type": "markdown",
   "id": "060b2b49-c800-4eee-8d7a-f1e61a7b3b4b",
   "metadata": {},
   "source": [
    "## Prepare\n",
    "- In Preperation, we will\n",
    "     * Drop Duplicates\n",
    "     * Split month and year into seperate columns \n",
    "     * Drop date of stay column\n",
    "     * Prep review content (Basic cleaning, tokenizing, lemmentizing, removing stop words, excluding common negative stop words. As they add to negative sentiment)\n",
    "     * Makeing columns for word and letter count\n",
    "     * creating columns for negative , postive and neautral sentiment"
   ]
  },
  {
   "cell_type": "code",
   "execution_count": 8,
   "id": "70bbae7e-3065-41a2-830f-b9922231f854",
   "metadata": {},
   "outputs": [],
   "source": [
    "df = prepare.prep_review_data(df)"
   ]
  },
  {
   "cell_type": "code",
   "execution_count": 9,
   "id": "5ea5d6f1-4471-46bc-8117-ca259464f72f",
   "metadata": {},
   "outputs": [
    {
     "data": {
      "text/plain": [
       "13732"
      ]
     },
     "execution_count": 9,
     "metadata": {},
     "output_type": "execute_result"
    }
   ],
   "source": [
    "len(df)"
   ]
  },
  {
   "cell_type": "markdown",
   "id": "2f7703e8-3714-4119-887d-ce68163a1bd0",
   "metadata": {},
   "source": [
    "----"
   ]
  },
  {
   "cell_type": "markdown",
   "id": "c0cea927-faf0-4930-add6-7ae4c256db1e",
   "metadata": {},
   "source": [
    "## Outliers \n",
    "- Here , we'll take a look at possible anomolies\n",
    "     * looking at positive sentiment reviews with low ratings\n",
    "     * looking at negative sentiment reviews with high ratings"
   ]
  },
  {
   "cell_type": "code",
   "execution_count": 10,
   "id": "897d5216-a434-4878-b55e-d4fabbe27946",
   "metadata": {},
   "outputs": [],
   "source": [
    "postive_when_neg  = (df.positive_sentiment  >= .500) & (df.review_rating < 3)\n",
    "negative_when_pos = (df.negative_sentiment  >= .500) & (df.review_rating > 3)"
   ]
  },
  {
   "cell_type": "code",
   "execution_count": 11,
   "id": "31e96594-62e5-4347-8ed8-8c7e86d1053c",
   "metadata": {},
   "outputs": [
    {
     "data": {
      "text/html": [
       "<div>\n",
       "<style scoped>\n",
       "    .dataframe tbody tr th:only-of-type {\n",
       "        vertical-align: middle;\n",
       "    }\n",
       "\n",
       "    .dataframe tbody tr th {\n",
       "        vertical-align: top;\n",
       "    }\n",
       "\n",
       "    .dataframe thead th {\n",
       "        text-align: right;\n",
       "    }\n",
       "</style>\n",
       "<table border=\"1\" class=\"dataframe\">\n",
       "  <thead>\n",
       "    <tr style=\"text-align: right;\">\n",
       "      <th></th>\n",
       "      <th>hotel_name</th>\n",
       "      <th>hotel_city</th>\n",
       "      <th>review_rating</th>\n",
       "      <th>review</th>\n",
       "      <th>month_of_stay</th>\n",
       "      <th>year_of_stay</th>\n",
       "      <th>review_cleaned</th>\n",
       "      <th>message_length</th>\n",
       "      <th>word_count</th>\n",
       "      <th>positive_sentiment</th>\n",
       "      <th>negative_sentiment</th>\n",
       "      <th>neatral_sentiment</th>\n",
       "    </tr>\n",
       "  </thead>\n",
       "  <tbody>\n",
       "    <tr>\n",
       "      <th>12130</th>\n",
       "      <td>Best Western Plus Northwest Inn &amp; Suites</td>\n",
       "      <td>Houston</td>\n",
       "      <td>1</td>\n",
       "      <td>The place smelled. The ac struggled to cool. The lobby needed better air flow. The pool is still not open. The Togo breakfast is a joke. The workers are the best assets this location has going for it.</td>\n",
       "      <td>June</td>\n",
       "      <td>2021</td>\n",
       "      <td>place smelled. ac struggled cool. lobby needed better air flow. pool still not open. togo breakfast joke. worker best asset location ha going .</td>\n",
       "      <td>143</td>\n",
       "      <td>24</td>\n",
       "      <td>0.503</td>\n",
       "      <td>0.069</td>\n",
       "      <td>0.429</td>\n",
       "    </tr>\n",
       "    <tr>\n",
       "      <th>12994</th>\n",
       "      <td>Hilton Garden Inn San Antonio At The Rim</td>\n",
       "      <td>San Antonio</td>\n",
       "      <td>1</td>\n",
       "      <td>Fabulous stay. The front desk staff was friendly and helpful. I enjoyed the breakfast daily and the breakfast crew as well. Room 404 - temperature control was excellent, I could adjust from heat to cool without issues. Necessary because of the temperature swings</td>\n",
       "      <td>November</td>\n",
       "      <td>2019</td>\n",
       "      <td>fabulous stay. front desk staff friendly helpful. enjoyed breakfast daily breakfast crew well. room 404 - temperature control excellent , could adjust heat cool without issues. necessary temperature swing</td>\n",
       "      <td>204</td>\n",
       "      <td>29</td>\n",
       "      <td>0.510</td>\n",
       "      <td>0.000</td>\n",
       "      <td>0.490</td>\n",
       "    </tr>\n",
       "  </tbody>\n",
       "</table>\n",
       "</div>"
      ],
      "text/plain": [
       "                                     hotel_name   hotel_city  review_rating  \\\n",
       "12130  Best Western Plus Northwest Inn & Suites      Houston              1   \n",
       "12994  Hilton Garden Inn San Antonio At The Rim  San Antonio              1   \n",
       "\n",
       "                                                                                                                                                                                                                                                                       review  \\\n",
       "12130                                                                The place smelled. The ac struggled to cool. The lobby needed better air flow. The pool is still not open. The Togo breakfast is a joke. The workers are the best assets this location has going for it.   \n",
       "12994  Fabulous stay. The front desk staff was friendly and helpful. I enjoyed the breakfast daily and the breakfast crew as well. Room 404 - temperature control was excellent, I could adjust from heat to cool without issues. Necessary because of the temperature swings   \n",
       "\n",
       "      month_of_stay year_of_stay  \\\n",
       "12130          June         2021   \n",
       "12994      November         2019   \n",
       "\n",
       "                                                                                                                                                                                                     review_cleaned  \\\n",
       "12130                                                               place smelled. ac struggled cool. lobby needed better air flow. pool still not open. togo breakfast joke. worker best asset location ha going .   \n",
       "12994  fabulous stay. front desk staff friendly helpful. enjoyed breakfast daily breakfast crew well. room 404 - temperature control excellent , could adjust heat cool without issues. necessary temperature swing   \n",
       "\n",
       "       message_length  word_count  positive_sentiment  negative_sentiment  \\\n",
       "12130             143          24               0.503               0.069   \n",
       "12994             204          29               0.510               0.000   \n",
       "\n",
       "       neatral_sentiment  \n",
       "12130              0.429  \n",
       "12994              0.490  "
      ]
     },
     "execution_count": 11,
     "metadata": {},
     "output_type": "execute_result"
    }
   ],
   "source": [
    "df[postive_when_neg].sample(2)"
   ]
  },
  {
   "cell_type": "code",
   "execution_count": 12,
   "id": "8dccbc51-efe9-4150-a9a7-10a3519cbebc",
   "metadata": {},
   "outputs": [
    {
     "data": {
      "text/html": [
       "<div>\n",
       "<style scoped>\n",
       "    .dataframe tbody tr th:only-of-type {\n",
       "        vertical-align: middle;\n",
       "    }\n",
       "\n",
       "    .dataframe tbody tr th {\n",
       "        vertical-align: top;\n",
       "    }\n",
       "\n",
       "    .dataframe thead th {\n",
       "        text-align: right;\n",
       "    }\n",
       "</style>\n",
       "<table border=\"1\" class=\"dataframe\">\n",
       "  <thead>\n",
       "    <tr style=\"text-align: right;\">\n",
       "      <th></th>\n",
       "      <th>hotel_name</th>\n",
       "      <th>hotel_city</th>\n",
       "      <th>review_rating</th>\n",
       "      <th>review</th>\n",
       "      <th>month_of_stay</th>\n",
       "      <th>year_of_stay</th>\n",
       "      <th>review_cleaned</th>\n",
       "      <th>message_length</th>\n",
       "      <th>word_count</th>\n",
       "      <th>positive_sentiment</th>\n",
       "      <th>negative_sentiment</th>\n",
       "      <th>neatral_sentiment</th>\n",
       "    </tr>\n",
       "  </thead>\n",
       "  <tbody>\n",
       "    <tr>\n",
       "      <th>13793</th>\n",
       "      <td>Econo Lodge Inn &amp; Suites</td>\n",
       "      <td>Dallas</td>\n",
       "      <td>5</td>\n",
       "      <td>Service of staff was a little bad and rude, In the lobby the didn't have the uniform. And the location is not good, is very dangerous.</td>\n",
       "      <td>March</td>\n",
       "      <td>2014</td>\n",
       "      <td>service staff little bad rude , lobby ' uniform. location not good , dangerous .</td>\n",
       "      <td>80</td>\n",
       "      <td>15</td>\n",
       "      <td>0.141</td>\n",
       "      <td>0.526</td>\n",
       "      <td>0.332</td>\n",
       "    </tr>\n",
       "  </tbody>\n",
       "</table>\n",
       "</div>"
      ],
      "text/plain": [
       "                     hotel_name hotel_city  review_rating  \\\n",
       "13793  Econo Lodge Inn & Suites     Dallas              5   \n",
       "\n",
       "                                                                                                                                       review  \\\n",
       "13793  Service of staff was a little bad and rude, In the lobby the didn't have the uniform. And the location is not good, is very dangerous.   \n",
       "\n",
       "      month_of_stay year_of_stay  \\\n",
       "13793         March         2014   \n",
       "\n",
       "                                                                         review_cleaned  \\\n",
       "13793  service staff little bad rude , lobby ' uniform. location not good , dangerous .   \n",
       "\n",
       "       message_length  word_count  positive_sentiment  negative_sentiment  \\\n",
       "13793              80          15               0.141               0.526   \n",
       "\n",
       "       neatral_sentiment  \n",
       "13793              0.332  "
      ]
     },
     "execution_count": 12,
     "metadata": {},
     "output_type": "execute_result"
    }
   ],
   "source": [
    "df[negative_when_pos].head()"
   ]
  },
  {
   "cell_type": "markdown",
   "id": "91a289cd-384f-4b63-90fc-5c75fc68f489",
   "metadata": {},
   "source": [
    "#### Most of these may be missclicked, as these people may wanted to rate higher or lower then their sentiment may suggest. so we will remove these from the dataframe as outliers."
   ]
  },
  {
   "cell_type": "code",
   "execution_count": 13,
   "id": "5d3d6210-080c-4110-9526-5588348076d5",
   "metadata": {},
   "outputs": [],
   "source": [
    "drop1=(df[postive_when_neg] == True).index.to_list()\n",
    "drop2=(df[negative_when_pos]== True).index.to_list()"
   ]
  },
  {
   "cell_type": "code",
   "execution_count": 14,
   "id": "ff4b2785-5a01-4a89-883e-733573ed68be",
   "metadata": {},
   "outputs": [],
   "source": [
    "df = df.drop(drop1)"
   ]
  },
  {
   "cell_type": "code",
   "execution_count": 15,
   "id": "e5432dba-b826-4bbf-9d65-7ebc2d24c827",
   "metadata": {},
   "outputs": [],
   "source": [
    "df = df.drop(drop2)"
   ]
  },
  {
   "cell_type": "code",
   "execution_count": 20,
   "id": "a7ab910c-4ea5-4bc8-932b-3ffc713f8a65",
   "metadata": {},
   "outputs": [],
   "source": [
    "df = df.reset_index().drop(columns='index')"
   ]
  },
  {
   "cell_type": "code",
   "execution_count": 22,
   "id": "e8ee8b27-e410-4b5a-b903-bda39f577aef",
   "metadata": {},
   "outputs": [],
   "source": [
    "df = df.drop(columns='level_0')"
   ]
  },
  {
   "cell_type": "code",
   "execution_count": 24,
   "id": "eca39be1-91e7-48ea-910e-88df6bdfc94c",
   "metadata": {},
   "outputs": [
    {
     "data": {
      "text/plain": [
       "13721"
      ]
     },
     "execution_count": 24,
     "metadata": {},
     "output_type": "execute_result"
    }
   ],
   "source": [
    "len(df)"
   ]
  },
  {
   "cell_type": "code",
   "execution_count": null,
   "id": "8c7d1dd9-d420-417b-8ae5-5f050105385a",
   "metadata": {},
   "outputs": [],
   "source": []
  }
 ],
 "metadata": {
  "kernelspec": {
   "display_name": "Python 3",
   "language": "python",
   "name": "python3"
  },
  "language_info": {
   "codemirror_mode": {
    "name": "ipython",
    "version": 3
   },
   "file_extension": ".py",
   "mimetype": "text/x-python",
   "name": "python",
   "nbconvert_exporter": "python",
   "pygments_lexer": "ipython3",
   "version": "3.8.10"
  }
 },
 "nbformat": 4,
 "nbformat_minor": 5
}
